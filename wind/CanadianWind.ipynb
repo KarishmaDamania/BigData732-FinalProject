{
 "cells": [
  {
   "cell_type": "markdown",
   "source": [
    "# Clean up the dataset"
   ],
   "metadata": {
    "collapsed": false,
    "pycharm": {
     "name": "#%% md\n"
    }
   }
  },
  {
   "cell_type": "code",
   "execution_count": 1,
   "outputs": [
    {
     "name": "stderr",
     "output_type": "stream",
     "text": [
      "Setting default log level to \"WARN\".\n",
      "To adjust logging level use sc.setLogLevel(newLevel). For SparkR, use setLogLevel(newLevel).\n"
     ]
    },
    {
     "name": "stdout",
     "output_type": "stream",
     "text": [
      "22/11/12 11:57:35 WARN NativeCodeLoader: Unable to load native-hadoop library for your platform... using builtin-java classes where applicable\n"
     ]
    }
   ],
   "source": [
    "# imports\n",
    "from pyspark.sql import SparkSession, functions, types, Row\n",
    "import sys\n",
    "assert sys.version_info >= (3, 5)\n",
    "import re\n",
    "\n",
    "# Configuration\n",
    "## DataFrames\n",
    "spark = SparkSession.builder.appName('Canadian wind').getOrCreate()\n",
    "spark.sparkContext.setLogLevel('WARN')\n",
    "assert spark.version >= '3.0'  # make sure we have Spark 3.0+\n",
    "## RDDs\n",
    "sc = spark.sparkContext\n",
    "assert sc.version >= '3.0'"
   ],
   "metadata": {
    "collapsed": false,
    "pycharm": {
     "name": "#%%\n"
    }
   }
  },
  {
   "cell_type": "code",
   "execution_count": 2,
   "outputs": [],
   "source": [
    "# General variables\n",
    "data_path = \"data.nosync\""
   ],
   "metadata": {
    "collapsed": false,
    "pycharm": {
     "name": "#%%\n"
    }
   }
  },
  {
   "cell_type": "markdown",
   "source": [
    "## Metadata\n",
    "### Stations\n",
    "See [documentation](https://www1.ncdc.noaa.gov/pub/data/ghcn/daily/readme.txt)\n",
    "IV. FORMAT OF \"ghcnd-stations.txt\""
   ],
   "metadata": {
    "collapsed": false,
    "pycharm": {
     "name": "#%% md\n"
    }
   }
  },
  {
   "cell_type": "code",
   "execution_count": 3,
   "outputs": [],
   "source": [
    "def parse_line(line):\n",
    "    id = '(\\S+)'\n",
    "    latitude = '([-+]?(?:\\d*\\.\\d+|\\d+))'\n",
    "    longitude = '([-+]?(?:\\d*\\.\\d+|\\d+))'\n",
    "    elevation = '([-+]?(?:\\d*\\.\\d+|\\d+))'\n",
    "    state = '([-a-zA-Z0-9_][-a-zA-Z0-9_])'\n",
    "    name = '((\\S+\\s)+)'\n",
    "    delimiter = '\\s+'\n",
    "    any = \".*\"\n",
    "    line_re = re.compile(r'^'+ id + delimiter + latitude + delimiter + longitude + delimiter + elevation + delimiter + state + delimiter + name + any + '$')\n",
    "    splitted_line = re.match(line_re, line)\n",
    "    return Row(splitted_line.group(1), float(splitted_line.group(2)), float(splitted_line.group(3)), float(splitted_line.group(4)), splitted_line.group(5), splitted_line.group(6))"
   ],
   "metadata": {
    "collapsed": false,
    "pycharm": {
     "name": "#%%\n"
    }
   }
  },
  {
   "cell_type": "code",
   "execution_count": 4,
   "outputs": [],
   "source": [
    "def stations_schema():\n",
    "    return types.StructType([\n",
    "        types.StructField(\"id\", types.StringType()),\n",
    "        types.StructField(\"latitude\", types.FloatType()),\n",
    "        types.StructField(\"longitude\", types.FloatType()),\n",
    "        types.StructField(\"elevation\", types.FloatType()),\n",
    "        types.StructField(\"state\", types.StringType()),\n",
    "        types.StructField(\"name\", types.StringType()),\n",
    "        #types.StructField(\"gsn_flag\", types.StringType()),\n",
    "        #types.StructField(\"crn_flag\", types.StringType()),\n",
    "        #types.StructField(\"wmo_id\", types.StringType()),\n",
    "    ])"
   ],
   "metadata": {
    "collapsed": false,
    "pycharm": {
     "name": "#%%\n"
    }
   }
  },
  {
   "cell_type": "code",
   "execution_count": 5,
   "outputs": [
    {
     "name": "stderr",
     "output_type": "stream",
     "text": [
      "[Stage 0:>                                                          (0 + 1) / 1]\r"
     ]
    },
    {
     "name": "stdout",
     "output_type": "stream",
     "text": [
      "+-----------+--------+---------+---------+-----+--------------------+\n",
      "|         id|latitude|longitude|elevation|state|                name|\n",
      "+-----------+--------+---------+---------+-----+--------------------+\n",
      "|CA001010066| 48.8667|-123.2833|      4.0|   BC|        ACTIVE PASS |\n",
      "|CA001010235|    48.4|-123.4833|     17.0|   BC|        ALBERT HEAD |\n",
      "|CA001010595| 48.5833|-123.5167|     85.0|   BC|BAMBERTON OCEAN C...|\n",
      "|CA001010720|    48.5|   -124.0|    351.0|   BC|         BEAR CREEK |\n",
      "|CA001010774|    48.5|  -123.35|     61.0|   BC|        BEAVER LAKE |\n",
      "|CA001010780| 48.3333|-123.6333|     12.0|   BC|         BECHER BAY |\n",
      "|CA001010960|    48.6|-123.4667|     38.0|   BC|    BRENTWOOD BAY 2 |\n",
      "|CA001010961| 48.5667|  -123.45|     31.0|   BC|BRENTWOOD CLARKE ...|\n",
      "|CA001010965| 48.5667|-123.4333|     91.0|   BC|BRENTWOOD W SAANI...|\n",
      "|CA001011467| 48.5833|-123.4167|     53.0|   BC|CENTRAL SAANICH V...|\n",
      "|CA0010114F6| 48.5667|   -123.4|     38.0|   BC|CENTRAL SAANICH I...|\n",
      "|CA0010114FF|   48.55|   -123.4|     88.0|   BC|CENTRAL SAANICH T...|\n",
      "|CA001011500| 48.9333|  -123.75|     75.0|   BC|          CHEMAINUS |\n",
      "|CA001011743| 48.6833|   -123.6|     99.0|   BC|        COBBLE HILL |\n",
      "|CA001011745|   48.65|-123.5667|     61.0|   BC|COBBLE HILL DELOU...|\n",
      "|CA001011775|   48.65|   -123.4|     37.0|   BC|           COLE BAY |\n",
      "|CA001011810| 48.4167|-123.4833|     76.0|   BC|  COLWOOD HATLEY DR |\n",
      "|CA001011860| 48.8333|-123.8333|    177.0|   BC|      COPPER CANYON |\n",
      "|CA001011920| 48.5333|-123.3667|     37.0|   BC|        CORDOVA BAY |\n",
      "|CA001011922| 48.5167|-123.3667|     26.0|   BC|  CORDOVA BAY SOUTH |\n",
      "+-----------+--------+---------+---------+-----+--------------------+\n",
      "only showing top 20 rows\n",
      "\n"
     ]
    },
    {
     "name": "stderr",
     "output_type": "stream",
     "text": [
      "                                                                                \r"
     ]
    }
   ],
   "source": [
    "stations_input = sc.textFile(data_path + \"/ghcnd-stations.txt\")\n",
    "formatted_lines = stations_input.filter(lambda line: line.startswith(\"CA\")).map(parse_line)\n",
    "cleaned_stations = spark.createDataFrame(data=formatted_lines, schema = stations_schema())\n",
    "cleaned_stations.show()"
   ],
   "metadata": {
    "collapsed": false,
    "pycharm": {
     "name": "#%%\n"
    }
   }
  },
  {
   "cell_type": "code",
   "execution_count": 6,
   "outputs": [
    {
     "name": "stderr",
     "output_type": "stream",
     "text": [
      "                                                                                \r"
     ]
    }
   ],
   "source": [
    "cleaned_stations.write.parquet(data_path + \"/ghcnd-stations-cleaned\", mode=\"overwrite\")"
   ],
   "metadata": {
    "collapsed": false,
    "pycharm": {
     "name": "#%%\n"
    }
   }
  },
  {
   "cell_type": "markdown",
   "source": [
    "### Countries\n",
    "See [documentation](https://www1.ncdc.noaa.gov/pub/data/ghcn/daily/readme.txt)\n",
    "V. FORMAT OF \"ghcnd-countries.txt\""
   ],
   "metadata": {
    "collapsed": false,
    "pycharm": {
     "name": "#%% md\n"
    }
   }
  },
  {
   "cell_type": "code",
   "execution_count": 7,
   "outputs": [],
   "source": [
    "def parse_line(line):\n",
    "    code = '([A-Z][A-Z])\\s'\n",
    "    name = '(([,A-Za-z\\[\\]\\(\\)]+\\s*)+)'\n",
    "    line_re = re.compile(r'^'+ code + name + '\\s*$')\n",
    "    splitted_line = re.match(line_re, line)\n",
    "    return Row(splitted_line.group(1), splitted_line.group(2))"
   ],
   "metadata": {
    "collapsed": false,
    "pycharm": {
     "name": "#%%\n"
    }
   }
  },
  {
   "cell_type": "code",
   "execution_count": 8,
   "outputs": [],
   "source": [
    "def countries_schema():\n",
    "    return types.StructType([\n",
    "        types.StructField(\"code\", types.StringType()),\n",
    "        types.StructField(\"name\", types.StringType()),\n",
    "    ])"
   ],
   "metadata": {
    "collapsed": false,
    "pycharm": {
     "name": "#%%\n"
    }
   }
  },
  {
   "cell_type": "code",
   "execution_count": 9,
   "outputs": [
    {
     "name": "stdout",
     "output_type": "stream",
     "text": [
      "+----+--------------------+\n",
      "|code|                name|\n",
      "+----+--------------------+\n",
      "|  AC|Antigua and Barbuda |\n",
      "|  AE|United Arab Emira...|\n",
      "|  AF|         Afghanistan|\n",
      "|  AG|            Algeria |\n",
      "|  AJ|         Azerbaijan |\n",
      "|  AL|             Albania|\n",
      "|  AM|            Armenia |\n",
      "|  AO|             Angola |\n",
      "|  AQ|American Samoa [U...|\n",
      "|  AR|          Argentina |\n",
      "|  AS|          Australia |\n",
      "|  AU|            Austria |\n",
      "|  AY|         Antarctica |\n",
      "|  BA|            Bahrain |\n",
      "|  BB|           Barbados |\n",
      "|  BC|           Botswana |\n",
      "|  BD|Bermuda [United K...|\n",
      "|  BE|            Belgium |\n",
      "|  BF|       Bahamas, The |\n",
      "|  BG|          Bangladesh|\n",
      "+----+--------------------+\n",
      "only showing top 20 rows\n",
      "\n"
     ]
    }
   ],
   "source": [
    "countries_input = sc.textFile(data_path + \"/ghcnd-countries.txt\")\n",
    "formatted_lines = countries_input.map(parse_line)\n",
    "cleaned_countries = spark.createDataFrame(data=formatted_lines, schema = countries_schema())\n",
    "cleaned_countries.show()"
   ],
   "metadata": {
    "collapsed": false,
    "pycharm": {
     "name": "#%%\n"
    }
   }
  },
  {
   "cell_type": "markdown",
   "source": [
    "### States\n",
    "See [documentation](https://www1.ncdc.noaa.gov/pub/data/ghcn/daily/readme.txt)\n",
    "VI. FORMAT OF \"ghcnd-states.txt\""
   ],
   "metadata": {
    "collapsed": false,
    "pycharm": {
     "name": "#%% md\n"
    }
   }
  },
  {
   "cell_type": "code",
   "execution_count": 10,
   "outputs": [],
   "source": [
    "def parse_line(line):\n",
    "    code = '([A-Z][A-Z])\\s'\n",
    "    name = '(([A-Z]+\\s*)+)'\n",
    "    line_re = re.compile(r'^'+ code + name + '\\s*$')\n",
    "    splitted_line = re.match(line_re, line)\n",
    "    return Row(splitted_line.group(1), splitted_line.group(2))"
   ],
   "metadata": {
    "collapsed": false,
    "pycharm": {
     "name": "#%%\n"
    }
   }
  },
  {
   "cell_type": "code",
   "execution_count": 11,
   "outputs": [],
   "source": [
    "def states_schema():\n",
    "    return types.StructType([\n",
    "        types.StructField(\"code\", types.StringType()),\n",
    "        types.StructField(\"name\", types.StringType()),\n",
    "    ])"
   ],
   "metadata": {
    "collapsed": false,
    "pycharm": {
     "name": "#%%\n"
    }
   }
  },
  {
   "cell_type": "code",
   "execution_count": 12,
   "outputs": [
    {
     "name": "stdout",
     "output_type": "stream",
     "text": [
      "+----+--------------------+\n",
      "|code|                name|\n",
      "+----+--------------------+\n",
      "|  AB|             ALBERTA|\n",
      "|  AK|              ALASKA|\n",
      "|  AL|             ALABAMA|\n",
      "|  AR|            ARKANSAS|\n",
      "|  AS|      AMERICAN SAMOA|\n",
      "|  AZ|             ARIZONA|\n",
      "|  BC|    BRITISH COLUMBIA|\n",
      "|  CA|          CALIFORNIA|\n",
      "|  CO|            COLORADO|\n",
      "|  CT|         CONNECTICUT|\n",
      "|  DC|DISTRICT OF COLUMBIA|\n",
      "|  DE|            DELAWARE|\n",
      "|  FL|             FLORIDA|\n",
      "|  FM|          MICRONESIA|\n",
      "|  GA|             GEORGIA|\n",
      "|  GU|                GUAM|\n",
      "|  HI|              HAWAII|\n",
      "|  IA|                IOWA|\n",
      "|  ID|               IDAHO|\n",
      "|  IL|            ILLINOIS|\n",
      "+----+--------------------+\n",
      "only showing top 20 rows\n",
      "\n"
     ]
    }
   ],
   "source": [
    "states_input = sc.textFile(data_path + \"/ghcnd-states.txt\")\n",
    "formatted_lines = states_input.map(parse_line)\n",
    "cleaned_states = spark.createDataFrame(data=formatted_lines, schema = states_schema())\n",
    "cleaned_states.show()"
   ],
   "metadata": {
    "collapsed": false,
    "pycharm": {
     "name": "#%%\n"
    }
   }
  },
  {
   "cell_type": "markdown",
   "source": [
    "### Inventory\n",
    "See [documentation](https://www1.ncdc.noaa.gov/pub/data/ghcn/daily/readme.txt)\n",
    "VII. FORMAT OF \"ghcnd-inventory.txt\""
   ],
   "metadata": {
    "collapsed": false,
    "pycharm": {
     "name": "#%% md\n"
    }
   }
  },
  {
   "cell_type": "code",
   "execution_count": 13,
   "outputs": [],
   "source": [
    "# Cleanup\n",
    "def toDF(data):\n",
    "    splitted_data = data.split(\" \")\n",
    "    while \"\" in splitted_data:\n",
    "        splitted_data.remove(\"\")\n",
    "\n",
    "    return Row(splitted_data[0], float(splitted_data[1]), float(splitted_data[2]), splitted_data[3], int(splitted_data[4]), int(splitted_data[5]))"
   ],
   "metadata": {
    "collapsed": false,
    "pycharm": {
     "name": "#%%\n"
    }
   }
  },
  {
   "cell_type": "code",
   "execution_count": 14,
   "outputs": [],
   "source": [
    "def inventory_schema():\n",
    "    return types.StructType([\n",
    "        types.StructField(\"id\", types.StringType()),\n",
    "        types.StructField(\"latitude\", types.FloatType()),\n",
    "        types.StructField(\"longitude\", types.FloatType()),\n",
    "        types.StructField(\"element\", types.StringType()),\n",
    "        types.StructField(\"first_year\", types.IntegerType()),\n",
    "        types.StructField(\"last_year\", types.IntegerType()),\n",
    "    ])"
   ],
   "metadata": {
    "collapsed": false,
    "pycharm": {
     "name": "#%%\n"
    }
   }
  },
  {
   "cell_type": "code",
   "execution_count": 15,
   "outputs": [
    {
     "name": "stderr",
     "output_type": "stream",
     "text": [
      "[Stage 4:>                                                          (0 + 1) / 1]\r"
     ]
    },
    {
     "name": "stdout",
     "output_type": "stream",
     "text": [
      "+-----------+--------+---------+-------+----------+---------+\n",
      "|         id|latitude|longitude|element|first_year|last_year|\n",
      "+-----------+--------+---------+-------+----------+---------+\n",
      "|CA001010066| 48.8667|-123.2833|   PRCP|      1984|     1996|\n",
      "|CA001010066| 48.8667|-123.2833|   SNOW|      1984|     1996|\n",
      "|CA001010066| 48.8667|-123.2833|   SNWD|      1984|     1996|\n",
      "|CA001010066| 48.8667|-123.2833|   MDPR|      1984|     1996|\n",
      "|CA001010066| 48.8667|-123.2833|   MDSF|      1984|     1990|\n",
      "|CA001010235|    48.4|-123.4833|   TMAX|      1976|     1978|\n",
      "|CA001010235|    48.4|-123.4833|   TMIN|      1976|     1978|\n",
      "|CA001010235|    48.4|-123.4833|   PRCP|      1971|     1995|\n",
      "|CA001010235|    48.4|-123.4833|   SNOW|      1971|     1995|\n",
      "|CA001010235|    48.4|-123.4833|   SNWD|      1991|     1995|\n",
      "|CA001010235|    48.4|-123.4833|   MDPR|      1971|     1995|\n",
      "|CA001010595| 48.5833|-123.5167|   PRCP|      1961|     1980|\n",
      "|CA001010595| 48.5833|-123.5167|   SNOW|      1961|     1980|\n",
      "|CA001010595| 48.5833|-123.5167|   SNWD|      1980|     1980|\n",
      "|CA001010595| 48.5833|-123.5167|   MDPR|      1962|     1980|\n",
      "|CA001010595| 48.5833|-123.5167|   MDSF|      1962|     1969|\n",
      "|CA001010720|    48.5|   -124.0|   TMAX|      1957|     1971|\n",
      "|CA001010720|    48.5|   -124.0|   TMIN|      1957|     1971|\n",
      "|CA001010720|    48.5|   -124.0|   PRCP|      1910|     1971|\n",
      "|CA001010720|    48.5|   -124.0|   SNOW|      1910|     1971|\n",
      "+-----------+--------+---------+-------+----------+---------+\n",
      "only showing top 20 rows\n",
      "\n"
     ]
    },
    {
     "name": "stderr",
     "output_type": "stream",
     "text": [
      "                                                                                \r"
     ]
    }
   ],
   "source": [
    "inventory_input = sc.textFile(data_path + \"/ghcnd-inventory.txt\")\n",
    "formatted_lines = inventory_input.filter(lambda line: line.startswith(\"CA\")).map(toDF)\n",
    "cleaned_inventory = spark.createDataFrame(data=formatted_lines, schema = inventory_schema()).cache()\n",
    "cleaned_inventory.show()"
   ],
   "metadata": {
    "collapsed": false,
    "pycharm": {
     "name": "#%%\n"
    }
   }
  },
  {
   "cell_type": "code",
   "execution_count": 17,
   "outputs": [],
   "source": [
    "#cleaned_inventory.write.parquet(data_path + \"/ghcnd-inventory-cleaned\", mode=\"overwrite\")"
   ],
   "metadata": {
    "collapsed": false,
    "pycharm": {
     "name": "#%%\n"
    }
   }
  },
  {
   "cell_type": "markdown",
   "source": [
    "## Data\n",
    "### Daily summaries latest\n"
   ],
   "metadata": {
    "collapsed": false,
    "pycharm": {
     "name": "#%% md\n"
    }
   }
  },
  {
   "cell_type": "code",
   "execution_count": 18,
   "outputs": [
    {
     "name": "stdout",
     "output_type": "stream",
     "text": [
      "+-----------+----------+---------+-----------+---------+--------------------+-----+---------------+-----+---------------+-----+---------------+----+---------------+----+---------------+----+---------------+\n",
      "|    STATION|      DATE| LATITUDE|  LONGITUDE|ELEVATION|                NAME| PRCP|PRCP_ATTRIBUTES| SNOW|SNOW_ATTRIBUTES| SNWD|SNWD_ATTRIBUTES|DAPR|DAPR_ATTRIBUTES|MDPR|MDPR_ATTRIBUTES|WESD|WESD_ATTRIBUTES|\n",
      "+-----------+----------+---------+-----------+---------+--------------------+-----+---------------+-----+---------------+-----+---------------+----+---------------+----+---------------+----+---------------+\n",
      "|CA1AB000001|2014-07-04|53.606907|-113.561926|    686.7|EDMONTON 9.1 NNW,...|    0|            ,,N|    0|            ,,N|    0|            ,,N|null|           null|null|           null|null|           null|\n",
      "|CA1AB000001|2014-07-05|53.606907|-113.561926|    686.7|EDMONTON 9.1 NNW,...|  241|            ,,N|    0|            ,,N|    0|            ,,N|null|           null|null|           null|null|           null|\n",
      "|CA1AB000001|2014-07-06|53.606907|-113.561926|    686.7|EDMONTON 9.1 NNW,...|   38|            ,,N|    0|            ,,N|    0|            ,,N|null|           null|null|           null|null|           null|\n",
      "|CA1AB000001|2014-07-07|53.606907|-113.561926|    686.7|EDMONTON 9.1 NNW,...|    0|            ,,N|    0|            ,,N| null|           null|null|           null|null|           null|null|           null|\n",
      "|CA1AB000001|2014-07-08|53.606907|-113.561926|    686.7|EDMONTON 9.1 NNW,...|    0|            ,,N|    0|            ,,N| null|           null|null|           null|null|           null|null|           null|\n",
      "|CA1AB000001|2014-07-09|53.606907|-113.561926|    686.7|EDMONTON 9.1 NNW,...|    0|            ,,N|    0|            ,,N| null|           null|null|           null|null|           null|null|           null|\n",
      "|CA1AB000001|2014-07-10|53.606907|-113.561926|    686.7|EDMONTON 9.1 NNW,...|    5|            ,,N|    0|            ,,N| null|           null|null|           null|null|           null|null|           null|\n",
      "|CA1AB000001|2014-07-11|53.606907|-113.561926|    686.7|EDMONTON 9.1 NNW,...|    5|            ,,N|    0|            ,,N| null|           null|null|           null|null|           null|null|           null|\n",
      "|CA1AB000001|2014-07-12|53.606907|-113.561926|    686.7|EDMONTON 9.1 NNW,...|    0|            ,,N|    0|            ,,N| null|           null|null|           null|null|           null|null|           null|\n",
      "|CA1AB000001|2014-07-13|53.606907|-113.561926|    686.7|EDMONTON 9.1 NNW,...|    0|            ,,N|    0|            ,,N| null|           null|null|           null|null|           null|null|           null|\n",
      "|CA1AB000001|2014-07-14|53.606907|-113.561926|    686.7|EDMONTON 9.1 NNW,...|    0|            ,,N|    0|            ,,N| null|           null|null|           null|null|           null|null|           null|\n",
      "|CA1AB000001|2014-07-15|53.606907|-113.561926|    686.7|EDMONTON 9.1 NNW,...|    0|            ,,N|    0|            ,,N| null|           null|null|           null|null|           null|null|           null|\n",
      "|CA1AB000001|2014-07-16|53.606907|-113.561926|    686.7|EDMONTON 9.1 NNW,...|    0|            ,,N|    0|            ,,N| null|           null|null|           null|null|           null|null|           null|\n",
      "|CA1AB000001|2014-07-17|53.606907|-113.561926|    686.7|EDMONTON 9.1 NNW,...|    3|            ,,N|    0|            ,,N| null|           null|null|           null|null|           null|null|           null|\n",
      "|CA1AB000001|2014-07-18|53.606907|-113.561926|    686.7|EDMONTON 9.1 NNW,...|   94|            ,,N|    0|            ,,N| null|           null|null|           null|null|           null|null|           null|\n",
      "|CA1AB000001|2014-07-19|53.606907|-113.561926|    686.7|EDMONTON 9.1 NNW,...|   33|            ,,N|    0|            ,,N| null|           null|null|           null|null|           null|null|           null|\n",
      "|CA1AB000001|2014-07-20|53.606907|-113.561926|    686.7|EDMONTON 9.1 NNW,...|   18|            ,,N|    0|            ,,N| null|           null|null|           null|null|           null|null|           null|\n",
      "|CA1AB000001|2014-07-21|53.606907|-113.561926|    686.7|EDMONTON 9.1 NNW,...|   46|            ,,N|    0|            ,,N| null|           null|null|           null|null|           null|null|           null|\n",
      "|CA1AB000001|2014-07-22|53.606907|-113.561926|    686.7|EDMONTON 9.1 NNW,...|    0|            ,,N|    0|            ,,N| null|           null|null|           null|null|           null|null|           null|\n",
      "|CA1AB000001|2014-07-23|53.606907|-113.561926|    686.7|EDMONTON 9.1 NNW,...|    0|            ,,N|    0|            ,,N| null|           null|null|           null|null|           null|null|           null|\n",
      "+-----------+----------+---------+-----------+---------+--------------------+-----+---------------+-----+---------------+-----+---------------+----+---------------+----+---------------+----+---------------+\n",
      "only showing top 20 rows\n",
      "\n"
     ]
    }
   ],
   "source": [
    "def daily_summaries_schema():\n",
    "    return types.StructType([\n",
    "        types.StructField(\"station\", types.StringType()),\n",
    "        types.StructField(\"date\", types.StringType()),\n",
    "        types.StructField(\"latitude\", types.StringType()),\n",
    "        types.StructField(\"longtitude\", types.StringType()),\n",
    "        types.StructField(\"elevation\", types.StringType()),\n",
    "        types.StructField(\"name\", types.StringType()),\n",
    "        types.StructField(\"prcp\", types.StringType()),\n",
    "        types.StructField(\"prcp_attributes\", types.StringType()),\n",
    "        types.StructField(\"snow\", types.StringType()),\n",
    "        types.StructField(\"snow_attributes\", types.StringType()),\n",
    "        types.StructField(\"snwd\", types.StringType()),\n",
    "        types.StructField(\"snwd_attributes\", types.StringType()),\n",
    "        types.StructField(\"dapr\", types.StringType()),\n",
    "        types.StructField(\"dapr_attributes\", types.StringType()),\n",
    "        types.StructField(\"mdpr\", types.StringType()),\n",
    "        types.StructField(\"mdpr_attributes\", types.StringType()),\n",
    "        types.StructField(\"wesd\", types.StringType()),\n",
    "        types.StructField(\"wesd_attributes\", types.StringType()),\n",
    "    ])\n",
    "# show the data for the station CA1AB000001\n",
    "daily_summaries_data = spark.read.csv(data_path + \"/ghcnd-daily-summaries-latest-canada/CA1AB000001.csv\", sep=\",\", header=True)\n",
    "daily_summaries_data.show()"
   ],
   "metadata": {
    "collapsed": false,
    "pycharm": {
     "name": "#%%\n"
    }
   }
  },
  {
   "cell_type": "markdown",
   "source": [
    "### GHCND-all\n",
    "See [documentation](https://www1.ncdc.noaa.gov/pub/data/ghcn/daily/readme.txt)\n",
    "III. FORMAT OF DATA FILES (\".dly\" FILES)"
   ],
   "metadata": {
    "collapsed": false,
    "pycharm": {
     "name": "#%% md\n"
    }
   }
  },
  {
   "cell_type": "code",
   "execution_count": 19,
   "outputs": [],
   "source": [
    "def parse_line(line):\n",
    "    station = line[:11]\n",
    "    year = line[11:15]\n",
    "    month = line[15:17]\n",
    "    element = line[17:21]\n",
    "    start_index=21\n",
    "    data = [station, year, month, element]\n",
    "    for i in range(31):\n",
    "        value_i = line[start_index:start_index+5]\n",
    "        mflag_i = line[start_index+5:start_index+6]\n",
    "        qflag_i = line[start_index+6:start_index+7]\n",
    "        sflag_i = line[start_index+7:start_index+8]\n",
    "        start_index=start_index+8\n",
    "        data.append(int(value_i))\n",
    "        data.append(mflag_i)\n",
    "        data.append(qflag_i)\n",
    "        data.append(sflag_i)\n",
    "\n",
    "    return data\n",
    "\n",
    "def ghcnd_all_columns():\n",
    "    columns = [\"station\", \"year\", \"month\", \"element\"]\n",
    "    for i in range(31):\n",
    "        value_i = \"value\" + str(i+1)\n",
    "        mflag_i = \"mflag\" + str(i+1)\n",
    "        qflag_i = \"qflag\" + str(i+1)\n",
    "        sflag_i = \"sflag\" + str(i+1)\n",
    "        columns.append(value_i)\n",
    "        columns.append(mflag_i)\n",
    "        columns.append(qflag_i)\n",
    "        columns.append(sflag_i)\n",
    "\n",
    "    return columns"
   ],
   "metadata": {
    "collapsed": false,
    "pycharm": {
     "name": "#%%\n"
    }
   }
  },
  {
   "cell_type": "code",
   "execution_count": 20,
   "outputs": [
    {
     "name": "stdout",
     "output_type": "stream",
     "text": [
      "22/11/12 11:59:07 WARN package: Truncated the string representation of a plan since it was too large. This behavior can be adjusted by setting 'spark.sql.debug.maxToStringFields'.\n",
      "+-----------+----+-----+-------+------+------+------+------+------+------+------+------+------+------+------+------+------+------+------+------+------+------+------+------+------+------+------+------+------+------+------+------+------+------+------+------+------+------+------+------+-------+-------+-------+-------+-------+-------+-------+-------+-------+-------+-------+-------+-------+-------+-------+-------+-------+-------+-------+-------+-------+-------+-------+-------+-------+-------+-------+-------+-------+-------+-------+-------+-------+-------+-------+-------+-------+-------+-------+-------+-------+-------+-------+-------+-------+-------+-------+-------+-------+-------+-------+-------+-------+-------+-------+-------+-------+-------+-------+-------+-------+-------+-------+-------+-------+-------+-------+-------+-------+-------+-------+-------+-------+-------+-------+-------+-------+-------+-------+-------+-------+-------+-------+-------+-------+-------+-------+-------+\n",
      "|    station|year|month|element|value1|mflag1|qflag1|sflag1|value2|mflag2|qflag2|sflag2|value3|mflag3|qflag3|sflag3|value4|mflag4|qflag4|sflag4|value5|mflag5|qflag5|sflag5|value6|mflag6|qflag6|sflag6|value7|mflag7|qflag7|sflag7|value8|mflag8|qflag8|sflag8|value9|mflag9|qflag9|sflag9|value10|mflag10|qflag10|sflag10|value11|mflag11|qflag11|sflag11|value12|mflag12|qflag12|sflag12|value13|mflag13|qflag13|sflag13|value14|mflag14|qflag14|sflag14|value15|mflag15|qflag15|sflag15|value16|mflag16|qflag16|sflag16|value17|mflag17|qflag17|sflag17|value18|mflag18|qflag18|sflag18|value19|mflag19|qflag19|sflag19|value20|mflag20|qflag20|sflag20|value21|mflag21|qflag21|sflag21|value22|mflag22|qflag22|sflag22|value23|mflag23|qflag23|sflag23|value24|mflag24|qflag24|sflag24|value25|mflag25|qflag25|sflag25|value26|mflag26|qflag26|sflag26|value27|mflag27|qflag27|sflag27|value28|mflag28|qflag28|sflag28|value29|mflag29|qflag29|sflag29|value30|mflag30|qflag30|sflag30|value31|mflag31|qflag31|sflag31|\n",
      "+-----------+----+-----+-------+------+------+------+------+------+------+------+------+------+------+------+------+------+------+------+------+------+------+------+------+------+------+------+------+------+------+------+------+------+------+------+------+------+------+------+------+-------+-------+-------+-------+-------+-------+-------+-------+-------+-------+-------+-------+-------+-------+-------+-------+-------+-------+-------+-------+-------+-------+-------+-------+-------+-------+-------+-------+-------+-------+-------+-------+-------+-------+-------+-------+-------+-------+-------+-------+-------+-------+-------+-------+-------+-------+-------+-------+-------+-------+-------+-------+-------+-------+-------+-------+-------+-------+-------+-------+-------+-------+-------+-------+-------+-------+-------+-------+-------+-------+-------+-------+-------+-------+-------+-------+-------+-------+-------+-------+-------+-------+-------+-------+-------+-------+-------+-------+\n",
      "|CA004011580|1957|   02|   TMAX|  -156|      |      |     C|  -106|      |      |     C|  -106|      |      |     C|   -61|      |      |     C|  -117|      |      |     C|  -117|      |      |     C|   -78|      |      |     C|   -67|      |      |     C|    22|      |      |     C|     17|       |       |      C|     17|       |       |      C|     17|       |       |      C|     39|       |       |      C|     56|       |       |      C|    -22|       |       |      C|      6|       |       |      C|    -78|       |       |      C|   -150|       |       |      C|   -178|       |       |      C|   -183|       |       |      C|   -228|       |       |      C|   -206|       |       |      C|   -100|       |       |      C|     89|       |       |      C|    -56|       |       |      C|     67|       |       |      C|     44|       |       |      C|     -6|       |       |      C|  -9999|       |       |       |  -9999|       |       |       |  -9999|       |       |       |\n",
      "|CA004011580|1957|   02|   TMIN|  -267|      |      |     C|  -250|      |      |     C|  -211|      |      |     C|  -178|      |      |     C|  -217|      |      |     C|  -167|      |      |     C|  -189|      |      |     C|  -161|      |      |     C|  -100|      |      |     C|   -106|       |       |      C|    -94|       |       |      C|    -67|       |       |      C|    -72|       |       |      C|    -17|       |       |      C|    -83|       |       |      C|   -178|       |       |      C|   -122|       |       |      C|   -222|       |       |      C|   -233|       |       |      C|   -228|       |       |      C|   -256|       |       |      C|   -311|       |       |      C|   -294|       |       |      C|   -172|       |       |      C|   -178|       |       |      C|   -139|       |       |      C|    -11|       |       |      C|    -44|       |       |      C|  -9999|       |       |       |  -9999|       |       |       |  -9999|       |       |       |\n",
      "|CA004011580|1957|   02|   PRCP|     0|      |      |     C|     0|      |      |     C|     0|      |      |     C|    25|      |      |     C|    13|      |      |     C|     0|      |      |     C|     0|      |      |     C|     0|      |      |     C|     0|     T|      |     C|      0|       |       |      C|      0|       |       |      C|      0|      T|       |      C|      0|       |       |      C|      0|       |       |      C|      0|      T|       |      C|      0|      T|       |      C|      0|      T|       |      C|      0|       |       |      C|     13|       |       |      C|      0|       |       |      C|      0|       |       |      C|      0|      T|       |      C|      5|       |       |      C|      0|       |       |      C|      0|       |       |      C|      0|       |       |      C|      0|       |       |      C|      0|      T|       |      C|  -9999|       |       |       |  -9999|       |       |       |  -9999|       |       |       |\n",
      "|CA004011580|1957|   02|   SNOW|     0|      |      |     C|     0|      |      |     C|     0|      |      |     C|    25|      |      |     C|    13|      |      |     C|     0|      |      |     C|     0|      |      |     C|     0|      |      |     C|     0|     T|      |     C|      0|       |       |      C|      0|       |       |      C|      0|      T|       |      C|      0|       |       |      C|      0|       |       |      C|      0|      T|       |      C|      0|      T|       |      C|      0|      T|       |      C|      0|       |       |      C|     13|       |       |      C|      0|       |       |      C|      0|       |       |      C|      0|      T|       |      C|      5|       |       |      C|      0|       |       |      C|      0|       |       |      C|      0|       |       |      C|      0|       |       |      C|      0|      T|       |      C|  -9999|       |       |       |  -9999|       |       |       |  -9999|       |       |       |\n",
      "|CA004011580|1957|   03|   TMAX|   -28|      |      |     C|    11|      |      |     C|   -44|      |      |     C|  -128|      |      |     C|  -117|      |      |     C|   -67|      |      |     C|   -11|      |      |     C|   -44|      |      |     C|    44|      |      |     C|     28|       |       |      C|    -67|       |       |      C|    -83|       |       |      C|    -94|       |       |      C|    -83|       |       |      C|    -50|       |       |      C|    -33|       |       |      C|    -22|       |       |      C|     11|       |       |      C|     72|       |       |      C|    117|       |       |      C|    144|       |       |      C|     11|       |       |      C|     22|       |       |      C|     56|       |       |      C|     67|       |       |      C|     11|       |       |      C|     11|       |       |      C|     17|       |       |      C|     33|       |       |      C|     22|       |       |      C|     67|       |       |      C|\n",
      "|CA004011580|1957|   03|   TMIN|  -106|      |      |     C|  -122|      |      |     C|  -111|      |      |     C|  -156|      |      |     C|  -178|      |      |     C|  -150|      |      |     C|  -139|      |      |     C|  -139|      |      |     C|  -167|      |      |     C|    -33|       |       |      C|   -106|       |       |      C|   -167|       |       |      C|   -183|       |       |      C|   -167|       |       |      C|   -200|       |       |      C|   -150|       |       |      C|   -117|       |       |      C|   -128|       |       |      C|    -22|       |       |      C|      0|       |       |      C|     39|       |       |      C|    -11|       |       |      C|    -33|       |       |      C|    -89|       |       |      C|     11|       |       |      C|    -22|       |       |      C|    -39|       |       |      C|    -67|       |       |      C|  -9999|       |       |       |    -28|       |       |      C|    -28|       |       |      C|\n",
      "|CA004011580|1957|   03|   PRCP|     0|      |      |     C|     0|      |      |     C|    28|      |      |     C|     3|      |      |     C|     0|     T|      |     C|    28|      |      |     C|     0|      |      |     C|     0|      |      |     C|     0|      |      |     C|     53|       |       |      C|     25|       |       |      C|      0|      T|       |      C|      0|      T|       |      C|      0|       |       |      C|      0|       |       |      C|      0|       |       |      C|      0|       |       |      C|      0|       |       |      C|      0|       |       |      C|      0|       |       |      C|      0|       |       |      C|    127|       |       |      C|      0|       |       |      C|      0|       |       |      C|      0|       |       |      C|     20|       |       |      C|      0|      T|       |      C|      0|       |       |      C|      0|       |       |      C|      0|      T|       |      C|      0|       |       |      C|\n",
      "|CA004011580|1957|   03|   SNOW|     0|      |      |     C|     0|      |      |     C|    28|      |      |     C|     3|      |      |     C|     0|     T|      |     C|    28|      |      |     C|     0|      |      |     C|     0|      |      |     C|     0|      |      |     C|     53|       |       |      C|     25|       |       |      C|      0|      T|       |      C|      0|      T|       |      C|      0|       |       |      C|      0|       |       |      C|      0|       |       |      C|      0|       |       |      C|      0|       |       |      C|      0|       |       |      C|      0|       |       |      C|      0|       |       |      C|    127|       |       |      C|      0|       |       |      C|      0|       |       |      C|      0|       |       |      C|     20|       |       |      C|      0|      T|       |      C|      0|       |       |      C|      0|       |       |      C|      0|      T|       |      C|      0|       |       |      C|\n",
      "|CA004011580|1957|   04|   TMAX|    28|      |      |     C|    44|      |      |     C|    50|      |      |     C|    94|      |      |     C|    89|      |      |     C|    -6|      |      |     C|    72|      |      |     C|     6|      |      |     C|    50|      |      |     C|    -33|       |       |      C|    -44|       |       |      C|     17|       |       |      C|     56|       |       |      C|    128|       |       |      C|     94|       |       |      C|     61|       |       |      C|    106|       |       |      C|     67|       |       |      C|    106|       |       |      C|    150|       |       |      C|    189|       |       |      C|    211|       |       |      C|     89|       |       |      C|    111|       |       |      C|     78|       |       |      C|     94|       |       |      C|    178|       |       |      C|    239|       |       |      C|    272|       |       |      C|    278|       |       |      C|  -9999|       |       |       |\n",
      "|CA004011580|1957|   04|   TMIN|   -39|      |      |     C|   -44|      |      |     C|     0|      |      |     C|   -44|      |      |     C|   -33|      |      |     C|   -44|      |      |     C|   -83|      |      |     C|   -44|      |      |     C|  -100|      |      |     C|   -122|       |       |      C|   -133|       |       |      C|   -117|       |       |      C|    -89|       |       |      C|     -6|       |       |      C|      0|       |       |      C|    -22|       |       |      C|    -61|       |       |      C|    -22|       |       |      C|     11|       |       |      C|    -33|       |       |      C|     22|       |       |      C|     61|       |       |      C|     72|       |       |      C|     44|       |       |      C|      0|       |       |      C|    -11|       |       |      C|    -22|       |       |      C|     61|       |       |      C|     78|       |       |      C|    167|       |       |      C|  -9999|       |       |       |\n",
      "|CA004011580|1957|   04|   PRCP|     3|      |      |     C|     0|     T|      |     C|     3|      |      |     C|     0|      |      |     C|    13|      |      |     C|     0|      |      |     C|     0|      |      |     C|     0|      |      |     C|     0|      |      |     C|     13|       |       |      C|      0|       |       |      C|      0|       |       |      C|      0|       |       |      C|      3|       |       |      C|      5|       |       |      C|      0|       |       |      C|      0|       |       |      C|      0|       |       |      C|      0|       |       |      C|      0|       |       |      C|      0|       |       |      C|     41|       |       |      C|    287|       |       |      C|     13|       |       |      C|      8|       |       |      C|      0|       |       |      C|      0|       |       |      C|      0|       |       |      C|      0|       |       |      C|      0|       |       |      C|  -9999|       |       |       |\n",
      "|CA004011580|1957|   04|   SNOW|     3|      |      |     C|     0|     T|      |     C|     3|      |      |     C|     0|      |      |     C|     0|      |      |     C|     0|      |      |     C|     0|      |      |     C|     0|      |      |     C|     0|      |      |     C|     13|       |       |      C|      0|       |       |      C|      0|       |       |      C|      0|       |       |      C|      0|       |       |      C|      0|       |       |      C|      0|       |       |      C|      0|       |       |      C|      0|       |       |      C|      0|       |       |      C|      0|       |       |      C|      0|       |       |      C|      0|       |       |      C|      0|       |       |      C|      0|       |       |      C|      0|       |       |      C|      0|       |       |      C|      0|       |       |      C|      0|       |       |      C|      0|       |       |      C|      0|       |       |      C|  -9999|       |       |       |\n",
      "|CA004011580|1957|   05|   TMAX|   194|      |      |     C|   267|      |      |     C|   222|      |      |     C|   228|      |      |     C|   239|      |      |     C|   250|      |      |     C|   250|      |      |     C|   100|      |      |     C|   156|      |      |     C|    233|       |       |      C|    206|       |       |      C|    172|       |       |      C|    228|       |       |      C|    217|       |       |      C|    167|       |       |      C|    222|       |       |      C|    228|       |       |      C|    222|       |       |      C|    150|       |       |      C|    111|       |       |      C|     61|       |       |      C|    106|       |       |      C|    211|       |       |      C|    228|       |       |      C|    133|       |       |      C|    161|       |       |      C|    228|       |       |      C|    239|       |       |      C|    267|       |       |      C|    294|       |       |      C|    194|       |       |      C|\n",
      "|CA004011580|1957|   05|   TMIN|    89|      |      |     C|    94|      |      |     C|    50|      |      |     C|    83|      |      |     C|   106|      |      |     C|   139|      |      |     C|   122|      |      |     C|    11|      |      |     C|    33|      |      |     C|     72|       |       |      C|    111|       |       |      C|     17|       |       |      C|     67|       |       |      C|     72|       |       |      C|     83|       |       |      C|     78|       |       |      C|    100|       |       |      C|    111|       |       |      C|     72|       |       |      C|     67|       |       |      C|     33|       |       |      C|     11|       |       |      C|     17|       |       |      C|    100|       |       |      C|     89|       |       |      C|      0|       |       |      C|     83|       |       |      C|    100|       |       |      C|     94|       |       |      C|    172|       |       |      C|     67|       |       |      C|\n",
      "|CA004011580|1957|   05|   PRCP|     5|      |      |     C|     0|      |      |     C|     0|      |      |     C|     0|      |      |     C|     0|      |      |     C|     0|      |      |     C|    76|      |      |     C|     0|      |      |     C|     0|      |      |     C|      0|       |       |      C|      0|       |       |      C|      0|       |       |      C|      0|       |       |      C|      0|      T|       |      C|      0|       |       |      C|      0|       |       |      C|      0|       |       |      C|      0|       |       |      C|      0|       |       |      C|    145|       |       |      C|     15|       |       |      C|      0|       |       |      C|      0|       |       |      C|      0|       |       |      C|      0|       |       |      C|      0|       |       |      C|      0|       |       |      C|      0|       |       |      C|      0|       |       |      C|      0|       |       |      C|      0|       |       |      C|\n",
      "|CA004011580|1957|   05|   SNOW|     0|      |      |     C|     0|      |      |     C|     0|      |      |     C|     0|      |      |     C|     0|      |      |     C|     0|      |      |     C|     0|      |      |     C|     0|      |      |     C|     0|      |      |     C|      0|       |       |      C|      0|       |       |      C|      0|       |       |      C|      0|       |       |      C|      0|       |       |      C|      0|       |       |      C|      0|       |       |      C|      0|       |       |      C|      0|       |       |      C|      0|       |       |      C|      0|       |       |      C|      0|       |       |      C|      0|       |       |      C|      0|       |       |      C|      0|       |       |      C|      0|       |       |      C|      0|       |       |      C|      0|       |       |      C|      0|       |       |      C|      0|       |       |      C|      0|       |       |      C|      0|       |       |      C|\n",
      "|CA004011580|1957|   06|   TMAX|   239|      |      |     C|   250|      |      |     C|   200|      |      |     C|   272|      |      |     C|   256|      |      |     C|   200|      |      |     C|   244|      |      |     C|   233|      |      |     C|   211|      |      |     C|    172|       |       |      C|    178|       |       |      C|    183|       |       |      C|    194|       |       |      C|    178|       |       |      C|    222|       |       |      C|    211|       |       |      C|    222|       |       |      C|    267|       |       |      C|    261|       |       |      C|    189|       |       |      C|    200|       |       |      C|    239|       |       |      C|    267|       |       |      C|    256|       |       |      C|    206|       |       |      C|    250|       |       |      C|    222|       |       |      C|    233|       |       |      C|  -9999|       |       |       |  -9999|       |       |       |  -9999|       |       |       |\n",
      "|CA004011580|1957|   06|   TMIN|    50|      |      |     C|    89|      |      |     C|    78|      |      |     C|   117|      |      |     C|   139|      |      |     C|   111|      |      |     C|   100|      |      |     C|   117|      |      |     C|    50|      |      |     C|     39|       |       |      C|     22|       |       |      C|    133|       |       |      C|     83|       |       |      C|     78|       |       |      C|     83|       |       |      C|     67|       |       |      C|    106|       |       |      C|    117|       |       |      C|    161|       |       |      C|    133|       |       |      C|    111|       |       |      C|    111|       |       |      C|    150|       |       |      C|     89|       |       |      C|    100|       |       |      C|    100|       |       |      C|    128|       |       |      C|    122|       |       |      C|  -9999|       |       |       |  -9999|       |       |       |  -9999|       |       |       |\n",
      "|CA004011580|1957|   06|   PRCP|     0|      |      |     C|     0|      |      |     C|     0|     T|      |     C|     0|      |      |     C|     0|      |      |     C|     0|      |      |     C|     0|      |      |     C|     0|      |      |     C|    79|      |      |     C|     30|       |       |      C|     28|       |       |      C|      0|      T|       |      C|     13|       |       |      C|      8|       |       |      C|      0|       |       |      C|      0|      T|       |      C|      0|       |       |      C|     20|       |       |      C|     30|       |       |      C|     38|       |       |      C|      0|       |       |      C|      0|       |       |      C|      0|       |       |      C|     76|       |       |      C|      0|       |       |      C|      0|      T|       |      C|      0|      T|       |      C|      0|       |       |      C|      0|       |       |      C|    152|       |       |      C|  -9999|       |       |       |\n",
      "|CA004011580|1957|   06|   SNOW|     0|      |      |     C|     0|      |      |     C|     0|      |      |     C|     0|      |      |     C|     0|      |      |     C|     0|      |      |     C|     0|      |      |     C|     0|      |      |     C|     0|      |      |     C|      0|       |       |      C|      0|       |       |      C|      0|       |       |      C|      0|       |       |      C|      0|       |       |      C|      0|       |       |      C|      0|       |       |      C|      0|       |       |      C|      0|       |       |      C|      0|       |       |      C|      0|       |       |      C|      0|       |       |      C|      0|       |       |      C|      0|       |       |      C|      0|       |       |      C|      0|       |       |      C|      0|       |       |      C|      0|       |       |      C|      0|       |       |      C|      0|       |       |      C|      0|       |       |      C|  -9999|       |       |       |\n",
      "+-----------+----+-----+-------+------+------+------+------+------+------+------+------+------+------+------+------+------+------+------+------+------+------+------+------+------+------+------+------+------+------+------+------+------+------+------+------+------+------+------+------+-------+-------+-------+-------+-------+-------+-------+-------+-------+-------+-------+-------+-------+-------+-------+-------+-------+-------+-------+-------+-------+-------+-------+-------+-------+-------+-------+-------+-------+-------+-------+-------+-------+-------+-------+-------+-------+-------+-------+-------+-------+-------+-------+-------+-------+-------+-------+-------+-------+-------+-------+-------+-------+-------+-------+-------+-------+-------+-------+-------+-------+-------+-------+-------+-------+-------+-------+-------+-------+-------+-------+-------+-------+-------+-------+-------+-------+-------+-------+-------+-------+-------+-------+-------+-------+-------+-------+-------+\n",
      "only showing top 20 rows\n",
      "\n"
     ]
    }
   ],
   "source": [
    "ghcnd_all_input = sc.textFile(data_path + \"/ghcnd-all-canada/\")\n",
    "formatted_lines = ghcnd_all_input.map(parse_line)\n",
    "cleaned_ghcnd_all = formatted_lines.toDF(ghcnd_all_columns())\n",
    "cleaned_ghcnd_all.show()"
   ],
   "metadata": {
    "collapsed": false,
    "pycharm": {
     "name": "#%%\n"
    }
   }
  },
  {
   "cell_type": "code",
   "execution_count": 21,
   "outputs": [],
   "source": [
    "# Run the following command only once\n",
    "# cleaned_ghcnd_all.write.partitionBy(\"station\").parquet(data_path + \"/ghcnd-all-canada-cleaned\", mode=\"overwrite\")"
   ],
   "metadata": {
    "collapsed": false,
    "pycharm": {
     "name": "#%%\n"
    }
   }
  },
  {
   "cell_type": "markdown",
   "source": [
    "_______________\n",
    "# ANALYSIS\n",
    "Questions:\n",
    "- what is a multiday? - lasting for more than one day: HOW LONG"
   ],
   "metadata": {
    "collapsed": false,
    "pycharm": {
     "name": "#%% md\n"
    }
   }
  },
  {
   "cell_type": "markdown",
   "source": [],
   "metadata": {
    "collapsed": false,
    "pycharm": {
     "name": "#%% md\n"
    }
   }
  },
  {
   "cell_type": "code",
   "execution_count": 26,
   "outputs": [],
   "source": [
    "# wind speed in tenth of meters per second\n",
    "wind_day_average_speed = \"AWND\"\n",
    "wind_day_max_1min_speed = \"WSF1\"\n",
    "wind_day_max_2min_speed = \"WSF2\"\n",
    "wind_day_max_5min_speed = \"WSF5\"\n",
    "wind_day_max_instantaneous_speed = \"WSFI\"\n",
    "wind_day_peak_speed = \"WSFG\"\n",
    "wind_speed = [wind_day_average_speed, wind_day_max_1min_speed, wind_day_max_2min_speed, wind_day_max_5min_speed, wind_day_max_instantaneous_speed, wind_day_peak_speed]\n",
    "\n",
    "# wind movement in km/h\n",
    "wind_time_max_movement = \"FMTM\"\n",
    "wind_multiday_movement = \"MDWM\"\n",
    "wind_multiday_movement_number_of_days = \"DAWM\"\n",
    "wind_day_movement = \"WDMV\"\n",
    "wind_movement = [wind_time_max_movement, wind_multiday_movement, wind_multiday_movement_number_of_days, wind_day_movement]\n",
    "\n",
    "# wind directions in degree\n",
    "wind_day_average_direction = \"AWDR\"\n",
    "wind_day_max_1min_direction = \"WDF1\"\n",
    "wind_day_max_2min_direction = \"WDF2\"\n",
    "wind_day_max_5min_direction = \"WDF5\"\n",
    "wind_day_peak_direction = \"WDFG\"\n",
    "wind_day_max_instantaneous_direction = \"WDFI\"\n",
    "wind_direction = [wind_day_average_direction, wind_day_max_1min_direction, wind_day_max_2min_direction, wind_day_max_5min_direction, wind_day_peak_direction, wind_day_max_instantaneous_direction]\n",
    "\n",
    "# temperature in tenths of degrees C\n",
    "temperature_day_min = \"TMIN\"\n",
    "temperature_multiday_min = \"MDTN\"\n",
    "temperature_multiday_min_number_of_days = \"DATN\"\n",
    "temperature_day_max = \"TMAX\"\n",
    "temperature_multiday_max = \"MDTX\"\n",
    "temperature_multiday_max_number_of_days = \"DATX\"\n",
    "temperature = [temperature_day_min, temperature_multiday_min, temperature_multiday_min_number_of_days, temperature_day_max, temperature_multiday_max, temperature_multiday_max_number_of_days]\n",
    "\n",
    "# wheather types\n",
    "weather_tornado = \"WT10\"\n",
    "weather_thunder = \"WT03\"\n",
    "weather_damaging_winds = \"WT11\"\n",
    "weather_blowing_spray = \"WT12\"\n",
    "weather = [weather_tornado, weather_thunder, weather_damaging_winds, weather_blowing_spray]\n",
    "\n",
    "elements_of_interest = wind_speed + wind_direction + wind_movement + temperature + weather"
   ],
   "metadata": {
    "collapsed": false,
    "pycharm": {
     "name": "#%%\n"
    }
   }
  },
  {
   "cell_type": "code",
   "execution_count": 27,
   "outputs": [
    {
     "name": "stdout",
     "output_type": "stream",
     "text": [
      "+-----------+--------------------+------------------+\n",
      "|    station|            elements|number_of_elements|\n",
      "+-----------+--------------------+------------------+\n",
      "|CA001010066|[PRCP, SNOW, SNWD...|                 5|\n",
      "|CA001010235|[TMAX, TMIN, PRCP...|                 6|\n",
      "|CA001010595|[PRCP, SNOW, SNWD...|                 5|\n",
      "|CA001010720|[TMAX, TMIN, PRCP...|                 6|\n",
      "|CA001010774|[PRCP, SNOW, MDPR...|                 4|\n",
      "|CA001010780|[TMAX, TMIN, PRCP...|                 5|\n",
      "|CA001010960|[PRCP, SNOW, SNWD...|                 5|\n",
      "|CA001010961|  [PRCP, SNOW, MDPR]|                 3|\n",
      "|CA001010965|[PRCP, SNOW, MDPR...|                 4|\n",
      "|CA001011467|[PRCP, SNOW, SNWD...|                 5|\n",
      "|CA0010114F6|[PRCP, SNOW, SNWD...|                 4|\n",
      "|CA0010114FF|  [PRCP, SNOW, MDPR]|                 3|\n",
      "|CA001011500|[TMAX, TMIN, PRCP...|                 8|\n",
      "|CA001011743|  [PRCP, SNOW, SNWD]|                 3|\n",
      "|CA001011745|[PRCP, SNOW, SNWD...|                 4|\n",
      "|CA001011775|  [PRCP, SNOW, MDPR]|                 3|\n",
      "|CA001011810|[PRCP, SNOW, SNWD...|                 4|\n",
      "|CA001011860|[TMAX, TMIN, PRCP...|                 5|\n",
      "|CA001011920|[TMAX, TMIN, PRCP...|                 5|\n",
      "|CA001011922|[TMAX, TMIN, PRCP...|                 6|\n",
      "+-----------+--------------------+------------------+\n",
      "only showing top 20 rows\n",
      "\n"
     ]
    }
   ],
   "source": [
    "from pyspark.sql.functions import collect_list\n",
    "\n",
    "list_of_elements_per_station = cleaned_inventory.groupby(cleaned_inventory[\"id\"]).agg(collect_list(cleaned_inventory[\"element\"]).alias(\"elements\"))\n",
    "number_of_elements_per_station = cleaned_inventory.groupby(cleaned_inventory[\"id\"]).agg(functions.count(cleaned_inventory[\"element\"]).alias(\"number_of_elements\"))\n",
    "\n",
    "inventory_element_analysis = list_of_elements_per_station.join(number_of_elements_per_station, \"id\").withColumnRenamed(\"id\", \"station\")\n",
    "inventory_element_analysis.show()\n"
   ],
   "metadata": {
    "collapsed": false,
    "pycharm": {
     "name": "#%%\n"
    }
   }
  },
  {
   "cell_type": "markdown",
   "source": [
    "### Wind"
   ],
   "metadata": {
    "collapsed": false,
    "pycharm": {
     "name": "#%% md\n"
    }
   }
  },
  {
   "cell_type": "code",
   "execution_count": 28,
   "outputs": [
    {
     "name": "stdout",
     "output_type": "stream",
     "text": [
      "+-------+-----+\n",
      "|element|count|\n",
      "+-------+-----+\n",
      "|   WESD|    1|\n",
      "|   MDPR|   41|\n",
      "|   DAPR|   41|\n",
      "|   SNOW|   80|\n",
      "|   SNWD|   16|\n",
      "|   PRCP|   80|\n",
      "+-------+-----+\n",
      "\n"
     ]
    }
   ],
   "source": [
    "station = \"CA1AB000001\"\n",
    "parquet_data = spark.read.parquet(data_path + \"/ghcnd-all-canada-cleaned/station=\" + station)\n",
    "parquet_data.groupby(parquet_data[\"element\"]).count().show()"
   ],
   "metadata": {
    "collapsed": false,
    "pycharm": {
     "name": "#%%\n"
    }
   }
  },
  {
   "cell_type": "markdown",
   "source": [
    "The station (CA1AB000001) contains not enough elements! I have to compare the number of matches of my relevant elements per station!\n",
    "\n",
    "## Matches of my elements per station"
   ],
   "metadata": {
    "collapsed": false,
    "pycharm": {
     "name": "#%% md\n"
    }
   }
  },
  {
   "cell_type": "code",
   "execution_count": 29,
   "outputs": [
    {
     "name": "stderr",
     "output_type": "stream",
     "text": [
      "[Stage 37:==================================>                   (126 + 8) / 200]\r"
     ]
    },
    {
     "name": "stdout",
     "output_type": "stream",
     "text": [
      "+-----------+------------------------------------------------------------------------------------------------------------------------------------+------------------------------+-----------------+\n",
      "|station    |elements                                                                                                                            |matches                       |number_of_matches|\n",
      "+-----------+------------------------------------------------------------------------------------------------------------------------------------+------------------------------+-----------------+\n",
      "|CAW00014508|[TMAX, TMIN, PRCP, SNOW, SNWD, ACMH, ACSH, PGTM, THIC, WDFG, WESD, WSFG, WT01, WT02, WT03, WT04, WT05, WT06, WT08, WT09, WT16, WT18]|[TMAX, TMIN, WDFG, WSFG, WT03]|5                |\n",
      "|CA007044980|[TMAX, TMIN, PRCP, SNOW, SNWD, PGTM, WDFG, WSFG, WT01, WT03, WT04, WT06, WT08, WT09, WT16, WT18]                                    |[TMAX, TMIN, WDFG, WSFG, WT03]|5                |\n",
      "|CA008403800|[TMAX, TMIN, PRCP, SNOW, SNWD, PGTM, TAVG, WDFG, WESD, WSFG, WT01, WT03, WT04, WT05, WT06, WT07, WT08, WT09, WT16, WT18]            |[TMAX, TMIN, WDFG, WSFG, WT03]|5                |\n",
      "|CA007113534|[TMAX, TMIN, PRCP, SNOW, SNWD, PGTM, TAVG, WDFG, WSFG, WT01, WT03, WT08, WT09, WT16, WT18]                                          |[TMAX, TMIN, WDFG, WSFG, WT03]|5                |\n",
      "|CA002402590|[TMAX, TMIN, PRCP, SNOW, SNWD, PGTM, WDFG, WSFG, WT01, WT03, WT04, WT06, WT08, WT09, WT16, WT18]                                    |[TMAX, TMIN, WDFG, WSFG, WT03]|5                |\n",
      "|CA006017401|[TMAX, TMIN, PRCP, TAVG, WDFG, WSFG]                                                                                                |[TMAX, TMIN, WDFG, WSFG]      |4                |\n",
      "|CA006068153|[TMAX, TMIN, PRCP, SNOW, SNWD, TAVG, WDFG, WSFG]                                                                                    |[TMAX, TMIN, WDFG, WSFG]      |4                |\n",
      "|CA006072230|[TMAX, TMIN, PRCP, SNWD, TAVG, WDFG, WSFG]                                                                                          |[TMAX, TMIN, WDFG, WSFG]      |4                |\n",
      "|CA008204495|[TMAX, TMIN, PRCP, TAVG, WDFG, WSFG]                                                                                                |[TMAX, TMIN, WDFG, WSFG]      |4                |\n",
      "|CA004012410|[TMAX, TMIN, PRCP, SNWD, TAVG, WDFG, WSFG]                                                                                          |[TMAX, TMIN, WDFG, WSFG]      |4                |\n",
      "|CA008200604|[TMAX, TMIN, PRCP, SNWD, TAVG, WDFG, WSFG]                                                                                          |[TMAX, TMIN, WDFG, WSFG]      |4                |\n",
      "|CA003012209|[TMAX, TMIN, PRCP, SNOW, SNWD, TAVG, WDFG, WSFG]                                                                                    |[TMAX, TMIN, WDFG, WSFG]      |4                |\n",
      "|CA001012475|[TMAX, TMIN, PRCP, SNOW, SNWD, TAVG, WDFG, WSFG]                                                                                    |[TMAX, TMIN, WDFG, WSFG]      |4                |\n",
      "|CA005012324|[TMAX, TMIN, PRCP, SNOW, SNWD, TAVG, WDFG, WSFG]                                                                                    |[TMAX, TMIN, WDFG, WSFG]      |4                |\n",
      "|CA007055121|[TMAX, TMIN, PRCP, SNOW, SNWD, TAVG, WDFG, WSFG]                                                                                    |[TMAX, TMIN, WDFG, WSFG]      |4                |\n",
      "|CA008403619|[TMAX, TMIN, PRCP, SNWD, TAVG, WDFG, WSFG]                                                                                          |[TMAX, TMIN, WDFG, WSFG]      |4                |\n",
      "|CA00406QLD0|[TMAX, TMIN, PRCP, SNOW, SNWD, TAVG, WDFG, WSFG]                                                                                    |[TMAX, TMIN, WDFG, WSFG]      |4                |\n",
      "|CA006139449|[TMAX, TMIN, PRCP, SNWD, TAVG, WDFG, WSFG]                                                                                          |[TMAX, TMIN, WDFG, WSFG]      |4                |\n",
      "|CA007041100|[TMAX, TMIN, PRCP, SNOW, SNWD, TAVG, WDFG, WSFG]                                                                                    |[TMAX, TMIN, WDFG, WSFG]      |4                |\n",
      "|CA003012818|[TMAX, TMIN, PRCP, TAVG, WDFG, WSFG]                                                                                                |[TMAX, TMIN, WDFG, WSFG]      |4                |\n",
      "+-----------+------------------------------------------------------------------------------------------------------------------------------------+------------------------------+-----------------+\n",
      "only showing top 20 rows\n",
      "\n"
     ]
    },
    {
     "name": "stderr",
     "output_type": "stream",
     "text": [
      "                                                                                \r"
     ]
    }
   ],
   "source": [
    "check_matching = inventory_element_analysis.select(\"*\", functions.explode(\"elements\").alias(\"list_of_elements\"))\\\n",
    "    .where(functions.col(\"list_of_elements\").isin(elements_of_interest)).cache()\n",
    "\n",
    "list_matching_elements = check_matching.groupBy(\"station\", \"elements\").agg(collect_list(check_matching[\"list_of_elements\"]).alias(\"matches\")).alias(\"a\")\n",
    "count_matching_elements = check_matching.groupBy(\"station\", \"elements\").agg(functions.count(\"list_of_elements\").alias(\"number_of_matches\"))\\\n",
    "    .orderBy(functions.desc(\"number_of_matches\"))\n",
    "\n",
    "matching_elements = list_matching_elements.join(count_matching_elements, \"station\")\\\n",
    "    .select(\"station\", functions.col(\"a.elements\"), \"matches\", \"number_of_matches\")\\\n",
    "    .orderBy(functions.desc(\"number_of_matches\"))\n",
    "matching_elements.show(20, False)"
   ],
   "metadata": {
    "collapsed": false,
    "pycharm": {
     "name": "#%%\n"
    }
   }
  },
  {
   "cell_type": "markdown",
   "source": [
    "### Results"
   ],
   "metadata": {
    "collapsed": false,
    "pycharm": {
     "name": "#%% md\n"
    }
   }
  },
  {
   "cell_type": "code",
   "execution_count": null,
   "outputs": [],
   "source": [
    "station = \"CAW00014508\""
   ],
   "metadata": {
    "collapsed": false,
    "pycharm": {
     "name": "#%%\n"
    }
   }
  },
  {
   "cell_type": "markdown",
   "source": [
    "### Temperature"
   ],
   "metadata": {
    "collapsed": false,
    "pycharm": {
     "name": "#%% md\n"
    }
   }
  },
  {
   "cell_type": "code",
   "execution_count": 73,
   "outputs": [],
   "source": [],
   "metadata": {
    "collapsed": false,
    "pycharm": {
     "name": "#%%\n"
    }
   }
  },
  {
   "cell_type": "markdown",
   "source": [
    "### Weather"
   ],
   "metadata": {
    "collapsed": false,
    "pycharm": {
     "name": "#%% md\n"
    }
   }
  },
  {
   "cell_type": "code",
   "execution_count": 73,
   "outputs": [],
   "source": [],
   "metadata": {
    "collapsed": false,
    "pycharm": {
     "name": "#%%\n"
    }
   }
  },
  {
   "cell_type": "markdown",
   "source": [
    "# Part 2: Clean up the data\n",
    "## CSV to Parquet"
   ],
   "metadata": {
    "collapsed": false,
    "pycharm": {
     "name": "#%% md\n"
    }
   }
  },
  {
   "cell_type": "code",
   "execution_count": 73,
   "outputs": [],
   "source": [],
   "metadata": {
    "collapsed": false,
    "pycharm": {
     "name": "#%%\n"
    }
   }
  }
 ],
 "metadata": {
  "kernelspec": {
   "display_name": "Python 3",
   "language": "python",
   "name": "python3"
  },
  "language_info": {
   "codemirror_mode": {
    "name": "ipython",
    "version": 2
   },
   "file_extension": ".py",
   "mimetype": "text/x-python",
   "name": "python",
   "nbconvert_exporter": "python",
   "pygments_lexer": "ipython2",
   "version": "2.7.6"
  }
 },
 "nbformat": 4,
 "nbformat_minor": 0
}