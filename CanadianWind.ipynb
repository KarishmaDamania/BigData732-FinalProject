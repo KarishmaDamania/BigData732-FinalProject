{
 "cells": [
  {
   "cell_type": "markdown",
   "source": [
    "# Part 1: Getting to know the data"
   ],
   "metadata": {
    "collapsed": false,
    "pycharm": {
     "name": "#%% md\n"
    }
   }
  },
  {
   "cell_type": "code",
   "execution_count": 6,
   "outputs": [],
   "source": [
    "# imports\n",
    "from pyspark.sql import SparkSession, functions, types, Row\n",
    "import sys\n",
    "assert sys.version_info >= (3, 5)\n",
    "import re\n",
    "\n",
    "# Configuration\n",
    "## DataFrames\n",
    "spark = SparkSession.builder.appName('Canadian wind').getOrCreate()\n",
    "spark.sparkContext.setLogLevel('WARN')\n",
    "assert spark.version >= '3.0'  # make sure we have Spark 3.0+\n",
    "## RDDs\n",
    "sc = spark.sparkContext\n",
    "assert sc.version >= '3.0'"
   ],
   "metadata": {
    "collapsed": false,
    "pycharm": {
     "name": "#%%\n"
    }
   }
  },
  {
   "cell_type": "code",
   "execution_count": 7,
   "outputs": [],
   "source": [
    "# General variables\n",
    "data_path = \"data.nosync\""
   ],
   "metadata": {
    "collapsed": false,
    "pycharm": {
     "name": "#%%\n"
    }
   }
  },
  {
   "cell_type": "markdown",
   "source": [
    "## Metadata\n",
    "### Stations\n",
    "See [documentation](https://www1.ncdc.noaa.gov/pub/data/ghcn/daily/readme.txt)\n",
    "IV. FORMAT OF \"ghcnd-stations.txt\""
   ],
   "metadata": {
    "collapsed": false,
    "pycharm": {
     "name": "#%% md\n"
    }
   }
  },
  {
   "cell_type": "code",
   "execution_count": 8,
   "outputs": [],
   "source": [
    "def parse_line(line):\n",
    "    id = '(\\S+)'\n",
    "    latitude = '([-+]?(?:\\d*\\.\\d+|\\d+))'\n",
    "    longitude = '([-+]?(?:\\d*\\.\\d+|\\d+))'\n",
    "    elevation = '([-+]?(?:\\d*\\.\\d+|\\d+))'\n",
    "    state = '([-a-zA-Z0-9_][-a-zA-Z0-9_])'\n",
    "    name = '((\\S+\\s)+)'\n",
    "    delimiter = '\\s+'\n",
    "    any = \".*\"\n",
    "    line_re = re.compile(r'^'+ id + delimiter + latitude + delimiter + longitude + delimiter + elevation + delimiter + state + delimiter + name + any + '$')\n",
    "    splitted_line = re.match(line_re, line)\n",
    "    return Row(splitted_line.group(1), float(splitted_line.group(2)), float(splitted_line.group(3)), float(splitted_line.group(4)), splitted_line.group(5), splitted_line.group(6))"
   ],
   "metadata": {
    "collapsed": false,
    "pycharm": {
     "name": "#%%\n"
    }
   }
  },
  {
   "cell_type": "code",
   "execution_count": 9,
   "outputs": [],
   "source": [
    "def stations_schema():\n",
    "    return types.StructType([\n",
    "        types.StructField(\"id\", types.StringType()),\n",
    "        types.StructField(\"latitude\", types.FloatType()),\n",
    "        types.StructField(\"longitude\", types.FloatType()),\n",
    "        types.StructField(\"elevation\", types.FloatType()),\n",
    "        types.StructField(\"state\", types.StringType()),\n",
    "        types.StructField(\"name\", types.StringType()),\n",
    "        #types.StructField(\"gsn_flag\", types.StringType()),\n",
    "        #types.StructField(\"crn_flag\", types.StringType()),\n",
    "        #types.StructField(\"wmo_id\", types.StringType()),\n",
    "    ])"
   ],
   "metadata": {
    "collapsed": false,
    "pycharm": {
     "name": "#%%\n"
    }
   }
  },
  {
   "cell_type": "code",
   "execution_count": 10,
   "outputs": [
    {
     "name": "stderr",
     "output_type": "stream",
     "text": [
      "[Stage 0:>                                                          (0 + 1) / 1]\r"
     ]
    },
    {
     "name": "stdout",
     "output_type": "stream",
     "text": [
      "+-----------+--------+---------+---------+-----+--------------------+\n",
      "|         id|latitude|longitude|elevation|state|                name|\n",
      "+-----------+--------+---------+---------+-----+--------------------+\n",
      "|CA001010066| 48.8667|-123.2833|      4.0|   BC|        ACTIVE PASS |\n",
      "|CA001010235|    48.4|-123.4833|     17.0|   BC|        ALBERT HEAD |\n",
      "|CA001010595| 48.5833|-123.5167|     85.0|   BC|BAMBERTON OCEAN C...|\n",
      "|CA001010720|    48.5|   -124.0|    351.0|   BC|         BEAR CREEK |\n",
      "|CA001010774|    48.5|  -123.35|     61.0|   BC|        BEAVER LAKE |\n",
      "|CA001010780| 48.3333|-123.6333|     12.0|   BC|         BECHER BAY |\n",
      "|CA001010960|    48.6|-123.4667|     38.0|   BC|    BRENTWOOD BAY 2 |\n",
      "|CA001010961| 48.5667|  -123.45|     31.0|   BC|BRENTWOOD CLARKE ...|\n",
      "|CA001010965| 48.5667|-123.4333|     91.0|   BC|BRENTWOOD W SAANI...|\n",
      "|CA001011467| 48.5833|-123.4167|     53.0|   BC|CENTRAL SAANICH V...|\n",
      "|CA0010114F6| 48.5667|   -123.4|     38.0|   BC|CENTRAL SAANICH I...|\n",
      "|CA0010114FF|   48.55|   -123.4|     88.0|   BC|CENTRAL SAANICH T...|\n",
      "|CA001011500| 48.9333|  -123.75|     75.0|   BC|          CHEMAINUS |\n",
      "|CA001011743| 48.6833|   -123.6|     99.0|   BC|        COBBLE HILL |\n",
      "|CA001011745|   48.65|-123.5667|     61.0|   BC|COBBLE HILL DELOU...|\n",
      "|CA001011775|   48.65|   -123.4|     37.0|   BC|           COLE BAY |\n",
      "|CA001011810| 48.4167|-123.4833|     76.0|   BC|  COLWOOD HATLEY DR |\n",
      "|CA001011860| 48.8333|-123.8333|    177.0|   BC|      COPPER CANYON |\n",
      "|CA001011920| 48.5333|-123.3667|     37.0|   BC|        CORDOVA BAY |\n",
      "|CA001011922| 48.5167|-123.3667|     26.0|   BC|  CORDOVA BAY SOUTH |\n",
      "+-----------+--------+---------+---------+-----+--------------------+\n",
      "only showing top 20 rows\n",
      "\n"
     ]
    },
    {
     "name": "stderr",
     "output_type": "stream",
     "text": [
      "                                                                                \r"
     ]
    }
   ],
   "source": [
    "stations_input = sc.textFile(data_path + \"/ghcnd-stations.txt\")\n",
    "formatted_lines = stations_input.filter(lambda line: line.startswith(\"CA\")).map(parse_line)\n",
    "cleaned_stations = spark.createDataFrame(data=formatted_lines, schema = stations_schema())\n",
    "cleaned_stations.show()"
   ],
   "metadata": {
    "collapsed": false,
    "pycharm": {
     "name": "#%%\n"
    }
   }
  },
  {
   "cell_type": "code",
   "execution_count": 11,
   "outputs": [
    {
     "name": "stderr",
     "output_type": "stream",
     "text": [
      "                                                                                \r"
     ]
    }
   ],
   "source": [
    "cleaned_stations.write.parquet(data_path + \"/ghcnd-stations-cleaned\", mode=\"overwrite\")"
   ],
   "metadata": {
    "collapsed": false,
    "pycharm": {
     "name": "#%%\n"
    }
   }
  },
  {
   "cell_type": "markdown",
   "source": [
    "### Countries\n",
    "See [documentation](https://www1.ncdc.noaa.gov/pub/data/ghcn/daily/readme.txt)\n",
    "V. FORMAT OF \"ghcnd-countries.txt\""
   ],
   "metadata": {
    "collapsed": false,
    "pycharm": {
     "name": "#%% md\n"
    }
   }
  },
  {
   "cell_type": "code",
   "execution_count": 12,
   "outputs": [],
   "source": [
    "def parse_line(line):\n",
    "    code = '([A-Z][A-Z])\\s'\n",
    "    name = '(([,A-Za-z\\[\\]\\(\\)]+\\s*)+)'\n",
    "    line_re = re.compile(r'^'+ code + name + '\\s*$')\n",
    "    splitted_line = re.match(line_re, line)\n",
    "    return Row(splitted_line.group(1), splitted_line.group(2))"
   ],
   "metadata": {
    "collapsed": false,
    "pycharm": {
     "name": "#%%\n"
    }
   }
  },
  {
   "cell_type": "code",
   "execution_count": 13,
   "outputs": [],
   "source": [
    "def countries_schema():\n",
    "    return types.StructType([\n",
    "        types.StructField(\"code\", types.StringType()),\n",
    "        types.StructField(\"name\", types.StringType()),\n",
    "    ])"
   ],
   "metadata": {
    "collapsed": false,
    "pycharm": {
     "name": "#%%\n"
    }
   }
  },
  {
   "cell_type": "code",
   "execution_count": 14,
   "outputs": [
    {
     "name": "stdout",
     "output_type": "stream",
     "text": [
      "+----+--------------------+\n",
      "|code|                name|\n",
      "+----+--------------------+\n",
      "|  AC|Antigua and Barbuda |\n",
      "|  AE|United Arab Emira...|\n",
      "|  AF|         Afghanistan|\n",
      "|  AG|            Algeria |\n",
      "|  AJ|         Azerbaijan |\n",
      "|  AL|             Albania|\n",
      "|  AM|            Armenia |\n",
      "|  AO|             Angola |\n",
      "|  AQ|American Samoa [U...|\n",
      "|  AR|          Argentina |\n",
      "|  AS|          Australia |\n",
      "|  AU|            Austria |\n",
      "|  AY|         Antarctica |\n",
      "|  BA|            Bahrain |\n",
      "|  BB|           Barbados |\n",
      "|  BC|           Botswana |\n",
      "|  BD|Bermuda [United K...|\n",
      "|  BE|            Belgium |\n",
      "|  BF|       Bahamas, The |\n",
      "|  BG|          Bangladesh|\n",
      "+----+--------------------+\n",
      "only showing top 20 rows\n",
      "\n"
     ]
    }
   ],
   "source": [
    "countries_input = sc.textFile(data_path + \"/ghcnd-countries.txt\")\n",
    "formatted_lines = countries_input.map(parse_line)\n",
    "cleaned_countries = spark.createDataFrame(data=formatted_lines, schema = countries_schema())\n",
    "cleaned_countries.show()"
   ],
   "metadata": {
    "collapsed": false,
    "pycharm": {
     "name": "#%%\n"
    }
   }
  },
  {
   "cell_type": "markdown",
   "source": [
    "### States\n",
    "See [documentation](https://www1.ncdc.noaa.gov/pub/data/ghcn/daily/readme.txt)\n",
    "VI. FORMAT OF \"ghcnd-states.txt\""
   ],
   "metadata": {
    "collapsed": false,
    "pycharm": {
     "name": "#%% md\n"
    }
   }
  },
  {
   "cell_type": "code",
   "execution_count": 15,
   "outputs": [],
   "source": [
    "def parse_line(line):\n",
    "    code = '([A-Z][A-Z])\\s'\n",
    "    name = '(([A-Z]+\\s*)+)'\n",
    "    line_re = re.compile(r'^'+ code + name + '\\s*$')\n",
    "    splitted_line = re.match(line_re, line)\n",
    "    return Row(splitted_line.group(1), splitted_line.group(2))"
   ],
   "metadata": {
    "collapsed": false,
    "pycharm": {
     "name": "#%%\n"
    }
   }
  },
  {
   "cell_type": "code",
   "execution_count": 16,
   "outputs": [],
   "source": [
    "def states_schema():\n",
    "    return types.StructType([\n",
    "        types.StructField(\"code\", types.StringType()),\n",
    "        types.StructField(\"name\", types.StringType()),\n",
    "    ])"
   ],
   "metadata": {
    "collapsed": false,
    "pycharm": {
     "name": "#%%\n"
    }
   }
  },
  {
   "cell_type": "code",
   "execution_count": 17,
   "outputs": [
    {
     "name": "stdout",
     "output_type": "stream",
     "text": [
      "+----+--------------------+\n",
      "|code|                name|\n",
      "+----+--------------------+\n",
      "|  AB|             ALBERTA|\n",
      "|  AK|              ALASKA|\n",
      "|  AL|             ALABAMA|\n",
      "|  AR|            ARKANSAS|\n",
      "|  AS|      AMERICAN SAMOA|\n",
      "|  AZ|             ARIZONA|\n",
      "|  BC|    BRITISH COLUMBIA|\n",
      "|  CA|          CALIFORNIA|\n",
      "|  CO|            COLORADO|\n",
      "|  CT|         CONNECTICUT|\n",
      "|  DC|DISTRICT OF COLUMBIA|\n",
      "|  DE|            DELAWARE|\n",
      "|  FL|             FLORIDA|\n",
      "|  FM|          MICRONESIA|\n",
      "|  GA|             GEORGIA|\n",
      "|  GU|                GUAM|\n",
      "|  HI|              HAWAII|\n",
      "|  IA|                IOWA|\n",
      "|  ID|               IDAHO|\n",
      "|  IL|            ILLINOIS|\n",
      "+----+--------------------+\n",
      "only showing top 20 rows\n",
      "\n"
     ]
    }
   ],
   "source": [
    "states_input = sc.textFile(data_path + \"/ghcnd-states.txt\")\n",
    "formatted_lines = states_input.map(parse_line)\n",
    "cleaned_states = spark.createDataFrame(data=formatted_lines, schema = states_schema())\n",
    "cleaned_states.show()"
   ],
   "metadata": {
    "collapsed": false,
    "pycharm": {
     "name": "#%%\n"
    }
   }
  },
  {
   "cell_type": "markdown",
   "source": [
    "### Inventory\n",
    "See [documentation](https://www1.ncdc.noaa.gov/pub/data/ghcn/daily/readme.txt)\n",
    "VII. FORMAT OF \"ghcnd-inventory.txt\""
   ],
   "metadata": {
    "collapsed": false,
    "pycharm": {
     "name": "#%% md\n"
    }
   }
  },
  {
   "cell_type": "code",
   "execution_count": 18,
   "outputs": [],
   "source": [
    "# Cleanup\n",
    "def toDF(data):\n",
    "    splitted_data = data.split(\" \")\n",
    "    while \"\" in splitted_data:\n",
    "        splitted_data.remove(\"\")\n",
    "\n",
    "    return Row(splitted_data[0], float(splitted_data[1]), float(splitted_data[2]), splitted_data[3], int(splitted_data[4]), int(splitted_data[5]))"
   ],
   "metadata": {
    "collapsed": false,
    "pycharm": {
     "name": "#%%\n"
    }
   }
  },
  {
   "cell_type": "code",
   "execution_count": 19,
   "outputs": [],
   "source": [
    "def inventory_schema():\n",
    "    return types.StructType([\n",
    "        types.StructField(\"id\", types.StringType()),\n",
    "        types.StructField(\"latitude\", types.FloatType()),\n",
    "        types.StructField(\"longitude\", types.FloatType()),\n",
    "        types.StructField(\"element\", types.StringType()),\n",
    "        types.StructField(\"first_year\", types.IntegerType()),\n",
    "        types.StructField(\"last_year\", types.IntegerType()),\n",
    "    ])"
   ],
   "metadata": {
    "collapsed": false,
    "pycharm": {
     "name": "#%%\n"
    }
   }
  },
  {
   "cell_type": "code",
   "execution_count": 20,
   "outputs": [
    {
     "name": "stderr",
     "output_type": "stream",
     "text": [
      "[Stage 4:>                                                          (0 + 1) / 1]\r"
     ]
    },
    {
     "name": "stdout",
     "output_type": "stream",
     "text": [
      "22/11/11 12:18:16 WARN PythonRunner: Detected deadlock while completing task 0.0 in stage 4 (TID 5): Attempting to kill Python Worker\n",
      "+-----------+--------+---------+-------+----------+---------+\n",
      "|         id|latitude|longitude|element|first_year|last_year|\n",
      "+-----------+--------+---------+-------+----------+---------+\n",
      "|CA001010066| 48.8667|-123.2833|   PRCP|      1984|     1996|\n",
      "|CA001010066| 48.8667|-123.2833|   SNOW|      1984|     1996|\n",
      "|CA001010066| 48.8667|-123.2833|   SNWD|      1984|     1996|\n",
      "|CA001010066| 48.8667|-123.2833|   MDPR|      1984|     1996|\n",
      "|CA001010066| 48.8667|-123.2833|   MDSF|      1984|     1990|\n",
      "|CA001010235|    48.4|-123.4833|   TMAX|      1976|     1978|\n",
      "|CA001010235|    48.4|-123.4833|   TMIN|      1976|     1978|\n",
      "|CA001010235|    48.4|-123.4833|   PRCP|      1971|     1995|\n",
      "|CA001010235|    48.4|-123.4833|   SNOW|      1971|     1995|\n",
      "|CA001010235|    48.4|-123.4833|   SNWD|      1991|     1995|\n",
      "|CA001010235|    48.4|-123.4833|   MDPR|      1971|     1995|\n",
      "|CA001010595| 48.5833|-123.5167|   PRCP|      1961|     1980|\n",
      "|CA001010595| 48.5833|-123.5167|   SNOW|      1961|     1980|\n",
      "|CA001010595| 48.5833|-123.5167|   SNWD|      1980|     1980|\n",
      "|CA001010595| 48.5833|-123.5167|   MDPR|      1962|     1980|\n",
      "|CA001010595| 48.5833|-123.5167|   MDSF|      1962|     1969|\n",
      "|CA001010720|    48.5|   -124.0|   TMAX|      1957|     1971|\n",
      "|CA001010720|    48.5|   -124.0|   TMIN|      1957|     1971|\n",
      "|CA001010720|    48.5|   -124.0|   PRCP|      1910|     1971|\n",
      "|CA001010720|    48.5|   -124.0|   SNOW|      1910|     1971|\n",
      "+-----------+--------+---------+-------+----------+---------+\n",
      "only showing top 20 rows\n",
      "\n"
     ]
    },
    {
     "name": "stderr",
     "output_type": "stream",
     "text": [
      "                                                                                \r"
     ]
    }
   ],
   "source": [
    "inventory_input = sc.textFile(data_path + \"/ghcnd-inventory.txt\")\n",
    "formatted_lines = inventory_input.filter(lambda line: line.startswith(\"CA\")).map(toDF)\n",
    "cleaned_inventory = spark.createDataFrame(data=formatted_lines, schema = inventory_schema())\n",
    "cleaned_inventory.show()"
   ],
   "metadata": {
    "collapsed": false,
    "pycharm": {
     "name": "#%%\n"
    }
   }
  },
  {
   "cell_type": "code",
   "execution_count": 21,
   "outputs": [
    {
     "name": "stderr",
     "output_type": "stream",
     "text": [
      "                                                                                \r"
     ]
    }
   ],
   "source": [
    "cleaned_inventory.write.parquet(data_path + \"/ghcnd-inventory-cleaned\", mode=\"overwrite\")"
   ],
   "metadata": {
    "collapsed": false,
    "pycharm": {
     "name": "#%%\n"
    }
   }
  },
  {
   "cell_type": "markdown",
   "source": [
    "## Data\n",
    "### Daily summaries latest\n"
   ],
   "metadata": {
    "collapsed": false,
    "pycharm": {
     "name": "#%% md\n"
    }
   }
  },
  {
   "cell_type": "code",
   "execution_count": 22,
   "outputs": [
    {
     "name": "stdout",
     "output_type": "stream",
     "text": [
      "+-----------+----------+---------+-----------+---------+--------------------+-----+---------------+-----+---------------+-----+---------------+----+---------------+----+---------------+----+---------------+\n",
      "|    STATION|      DATE| LATITUDE|  LONGITUDE|ELEVATION|                NAME| PRCP|PRCP_ATTRIBUTES| SNOW|SNOW_ATTRIBUTES| SNWD|SNWD_ATTRIBUTES|DAPR|DAPR_ATTRIBUTES|MDPR|MDPR_ATTRIBUTES|WESD|WESD_ATTRIBUTES|\n",
      "+-----------+----------+---------+-----------+---------+--------------------+-----+---------------+-----+---------------+-----+---------------+----+---------------+----+---------------+----+---------------+\n",
      "|CA1AB000001|2014-07-04|53.606907|-113.561926|    686.7|EDMONTON 9.1 NNW,...|    0|            ,,N|    0|            ,,N|    0|            ,,N|null|           null|null|           null|null|           null|\n",
      "|CA1AB000001|2014-07-05|53.606907|-113.561926|    686.7|EDMONTON 9.1 NNW,...|  241|            ,,N|    0|            ,,N|    0|            ,,N|null|           null|null|           null|null|           null|\n",
      "|CA1AB000001|2014-07-06|53.606907|-113.561926|    686.7|EDMONTON 9.1 NNW,...|   38|            ,,N|    0|            ,,N|    0|            ,,N|null|           null|null|           null|null|           null|\n",
      "|CA1AB000001|2014-07-07|53.606907|-113.561926|    686.7|EDMONTON 9.1 NNW,...|    0|            ,,N|    0|            ,,N| null|           null|null|           null|null|           null|null|           null|\n",
      "|CA1AB000001|2014-07-08|53.606907|-113.561926|    686.7|EDMONTON 9.1 NNW,...|    0|            ,,N|    0|            ,,N| null|           null|null|           null|null|           null|null|           null|\n",
      "|CA1AB000001|2014-07-09|53.606907|-113.561926|    686.7|EDMONTON 9.1 NNW,...|    0|            ,,N|    0|            ,,N| null|           null|null|           null|null|           null|null|           null|\n",
      "|CA1AB000001|2014-07-10|53.606907|-113.561926|    686.7|EDMONTON 9.1 NNW,...|    5|            ,,N|    0|            ,,N| null|           null|null|           null|null|           null|null|           null|\n",
      "|CA1AB000001|2014-07-11|53.606907|-113.561926|    686.7|EDMONTON 9.1 NNW,...|    5|            ,,N|    0|            ,,N| null|           null|null|           null|null|           null|null|           null|\n",
      "|CA1AB000001|2014-07-12|53.606907|-113.561926|    686.7|EDMONTON 9.1 NNW,...|    0|            ,,N|    0|            ,,N| null|           null|null|           null|null|           null|null|           null|\n",
      "|CA1AB000001|2014-07-13|53.606907|-113.561926|    686.7|EDMONTON 9.1 NNW,...|    0|            ,,N|    0|            ,,N| null|           null|null|           null|null|           null|null|           null|\n",
      "|CA1AB000001|2014-07-14|53.606907|-113.561926|    686.7|EDMONTON 9.1 NNW,...|    0|            ,,N|    0|            ,,N| null|           null|null|           null|null|           null|null|           null|\n",
      "|CA1AB000001|2014-07-15|53.606907|-113.561926|    686.7|EDMONTON 9.1 NNW,...|    0|            ,,N|    0|            ,,N| null|           null|null|           null|null|           null|null|           null|\n",
      "|CA1AB000001|2014-07-16|53.606907|-113.561926|    686.7|EDMONTON 9.1 NNW,...|    0|            ,,N|    0|            ,,N| null|           null|null|           null|null|           null|null|           null|\n",
      "|CA1AB000001|2014-07-17|53.606907|-113.561926|    686.7|EDMONTON 9.1 NNW,...|    3|            ,,N|    0|            ,,N| null|           null|null|           null|null|           null|null|           null|\n",
      "|CA1AB000001|2014-07-18|53.606907|-113.561926|    686.7|EDMONTON 9.1 NNW,...|   94|            ,,N|    0|            ,,N| null|           null|null|           null|null|           null|null|           null|\n",
      "|CA1AB000001|2014-07-19|53.606907|-113.561926|    686.7|EDMONTON 9.1 NNW,...|   33|            ,,N|    0|            ,,N| null|           null|null|           null|null|           null|null|           null|\n",
      "|CA1AB000001|2014-07-20|53.606907|-113.561926|    686.7|EDMONTON 9.1 NNW,...|   18|            ,,N|    0|            ,,N| null|           null|null|           null|null|           null|null|           null|\n",
      "|CA1AB000001|2014-07-21|53.606907|-113.561926|    686.7|EDMONTON 9.1 NNW,...|   46|            ,,N|    0|            ,,N| null|           null|null|           null|null|           null|null|           null|\n",
      "|CA1AB000001|2014-07-22|53.606907|-113.561926|    686.7|EDMONTON 9.1 NNW,...|    0|            ,,N|    0|            ,,N| null|           null|null|           null|null|           null|null|           null|\n",
      "|CA1AB000001|2014-07-23|53.606907|-113.561926|    686.7|EDMONTON 9.1 NNW,...|    0|            ,,N|    0|            ,,N| null|           null|null|           null|null|           null|null|           null|\n",
      "+-----------+----------+---------+-----------+---------+--------------------+-----+---------------+-----+---------------+-----+---------------+----+---------------+----+---------------+----+---------------+\n",
      "only showing top 20 rows\n",
      "\n"
     ]
    }
   ],
   "source": [
    "def daily_summaries_schema():\n",
    "    return types.StructType([\n",
    "        types.StructField(\"station\", types.StringType()),\n",
    "        types.StructField(\"date\", types.StringType()),\n",
    "        types.StructField(\"latitude\", types.StringType()),\n",
    "        types.StructField(\"longtitude\", types.StringType()),\n",
    "        types.StructField(\"elevation\", types.StringType()),\n",
    "        types.StructField(\"name\", types.StringType()),\n",
    "        types.StructField(\"prcp\", types.StringType()),\n",
    "        types.StructField(\"prcp_attributes\", types.StringType()),\n",
    "        types.StructField(\"snow\", types.StringType()),\n",
    "        types.StructField(\"snow_attributes\", types.StringType()),\n",
    "        types.StructField(\"snwd\", types.StringType()),\n",
    "        types.StructField(\"snwd_attributes\", types.StringType()),\n",
    "        types.StructField(\"dapr\", types.StringType()),\n",
    "        types.StructField(\"dapr_attributes\", types.StringType()),\n",
    "        types.StructField(\"mdpr\", types.StringType()),\n",
    "        types.StructField(\"mdpr_attributes\", types.StringType()),\n",
    "        types.StructField(\"wesd\", types.StringType()),\n",
    "        types.StructField(\"wesd_attributes\", types.StringType()),\n",
    "    ])\n",
    "# show the data for the station CA1AB000001\n",
    "daily_summaries_data = spark.read.csv(data_path + \"/ghcnd-daily-summaries-latest-canada/CA1AB000001.csv\", sep=\",\", header=True)\n",
    "daily_summaries_data.show()"
   ],
   "metadata": {
    "collapsed": false,
    "pycharm": {
     "name": "#%%\n"
    }
   }
  },
  {
   "cell_type": "markdown",
   "source": [
    "### GHCND-all\n",
    "See [documentation](https://www1.ncdc.noaa.gov/pub/data/ghcn/daily/readme.txt)\n",
    "III. FORMAT OF DATA FILES (\".dly\" FILES)"
   ],
   "metadata": {
    "collapsed": false,
    "pycharm": {
     "name": "#%% md\n"
    }
   }
  },
  {
   "cell_type": "code",
   "execution_count": 23,
   "outputs": [],
   "source": [
    "def parse_line(line):\n",
    "    station = line[:11]\n",
    "    year = line[11:15]\n",
    "    month = line[15:17]\n",
    "    element = line[17:21]\n",
    "    start_index=21\n",
    "    data = [station, year, month, element]\n",
    "    for i in range(31):\n",
    "        value_i = line[start_index:start_index+5]\n",
    "        mflag_i = line[start_index+5:start_index+6]\n",
    "        qflag_i = line[start_index+6:start_index+7]\n",
    "        sflag_i = line[start_index+7:start_index+8]\n",
    "        start_index=start_index+8\n",
    "        data.append(int(value_i))\n",
    "        data.append(mflag_i)\n",
    "        data.append(qflag_i)\n",
    "        data.append(sflag_i)\n",
    "\n",
    "    return data\n",
    "\n",
    "def ghcnd_all_columns():\n",
    "    columns = [\"station\", \"year\", \"month\", \"element\"]\n",
    "    for i in range(31):\n",
    "        value_i = \"value\" + str(i+1)\n",
    "        mflag_i = \"mflag\" + str(i+1)\n",
    "        qflag_i = \"qflag\" + str(i+1)\n",
    "        sflag_i = \"sflag\" + str(i+1)\n",
    "        columns.append(value_i)\n",
    "        columns.append(mflag_i)\n",
    "        columns.append(qflag_i)\n",
    "        columns.append(sflag_i)\n",
    "\n",
    "    return columns"
   ],
   "metadata": {
    "collapsed": false,
    "pycharm": {
     "name": "#%%\n"
    }
   }
  },
  {
   "cell_type": "code",
   "execution_count": 24,
   "outputs": [
    {
     "name": "stdout",
     "output_type": "stream",
     "text": [
      "22/11/11 12:18:18 WARN package: Truncated the string representation of a plan since it was too large. This behavior can be adjusted by setting 'spark.sql.debug.maxToStringFields'.\n",
      "+-----------+----+-----+-------+------+------+------+------+------+------+------+------+------+------+------+------+------+------+------+------+------+------+------+------+------+------+------+------+------+------+------+------+------+------+------+------+------+------+------+------+-------+-------+-------+-------+-------+-------+-------+-------+-------+-------+-------+-------+-------+-------+-------+-------+-------+-------+-------+-------+-------+-------+-------+-------+-------+-------+-------+-------+-------+-------+-------+-------+-------+-------+-------+-------+-------+-------+-------+-------+-------+-------+-------+-------+-------+-------+-------+-------+-------+-------+-------+-------+-------+-------+-------+-------+-------+-------+-------+-------+-------+-------+-------+-------+-------+-------+-------+-------+-------+-------+-------+-------+-------+-------+-------+-------+-------+-------+-------+-------+-------+-------+-------+-------+-------+-------+-------+-------+\n",
      "|    station|year|month|element|value1|mflag1|qflag1|sflag1|value2|mflag2|qflag2|sflag2|value3|mflag3|qflag3|sflag3|value4|mflag4|qflag4|sflag4|value5|mflag5|qflag5|sflag5|value6|mflag6|qflag6|sflag6|value7|mflag7|qflag7|sflag7|value8|mflag8|qflag8|sflag8|value9|mflag9|qflag9|sflag9|value10|mflag10|qflag10|sflag10|value11|mflag11|qflag11|sflag11|value12|mflag12|qflag12|sflag12|value13|mflag13|qflag13|sflag13|value14|mflag14|qflag14|sflag14|value15|mflag15|qflag15|sflag15|value16|mflag16|qflag16|sflag16|value17|mflag17|qflag17|sflag17|value18|mflag18|qflag18|sflag18|value19|mflag19|qflag19|sflag19|value20|mflag20|qflag20|sflag20|value21|mflag21|qflag21|sflag21|value22|mflag22|qflag22|sflag22|value23|mflag23|qflag23|sflag23|value24|mflag24|qflag24|sflag24|value25|mflag25|qflag25|sflag25|value26|mflag26|qflag26|sflag26|value27|mflag27|qflag27|sflag27|value28|mflag28|qflag28|sflag28|value29|mflag29|qflag29|sflag29|value30|mflag30|qflag30|sflag30|value31|mflag31|qflag31|sflag31|\n",
      "+-----------+----+-----+-------+------+------+------+------+------+------+------+------+------+------+------+------+------+------+------+------+------+------+------+------+------+------+------+------+------+------+------+------+------+------+------+------+------+------+------+------+-------+-------+-------+-------+-------+-------+-------+-------+-------+-------+-------+-------+-------+-------+-------+-------+-------+-------+-------+-------+-------+-------+-------+-------+-------+-------+-------+-------+-------+-------+-------+-------+-------+-------+-------+-------+-------+-------+-------+-------+-------+-------+-------+-------+-------+-------+-------+-------+-------+-------+-------+-------+-------+-------+-------+-------+-------+-------+-------+-------+-------+-------+-------+-------+-------+-------+-------+-------+-------+-------+-------+-------+-------+-------+-------+-------+-------+-------+-------+-------+-------+-------+-------+-------+-------+-------+-------+-------+\n",
      "|CA1AB000001|2014|   07|   PRCP| -9999|      |      |      | -9999|      |      |      | -9999|      |      |      |     0|      |      |     N|   241|      |      |     N|    38|      |      |     N|     0|      |      |     N|     0|      |      |     N|     0|      |      |     N|      5|       |       |      N|      5|       |       |      N|      0|       |       |      N|      0|       |       |      N|      0|       |       |      N|      0|       |       |      N|      0|       |       |      N|      3|       |       |      N|     94|       |       |      N|     33|       |       |      N|     18|       |       |      N|     46|       |       |      N|      0|       |       |      N|      0|       |       |      N|      0|       |       |      N|    150|       |       |      N|    574|       |       |      N|     15|       |       |      N|      0|       |       |      N|      0|       |       |      N|      0|       |       |      N|      0|       |       |      N|\n",
      "|CA1AB000001|2014|   07|   SNOW| -9999|      |      |      | -9999|      |      |      | -9999|      |      |      |     0|      |      |     N|     0|      |      |     N|     0|      |      |     N|     0|      |      |     N|     0|      |      |     N|     0|      |      |     N|      0|       |       |      N|      0|       |       |      N|      0|       |       |      N|      0|       |       |      N|      0|       |       |      N|      0|       |       |      N|      0|       |       |      N|      0|       |       |      N|      0|       |       |      N|      0|       |       |      N|      0|       |       |      N|      0|       |       |      N|      0|       |       |      N|      0|       |       |      N|      0|       |       |      N|      0|       |       |      N|      0|       |       |      N|      0|       |       |      N|      0|       |       |      N|      0|       |       |      N|      0|       |       |      N|      0|       |       |      N|\n",
      "|CA1AB000001|2014|   07|   SNWD| -9999|      |      |      | -9999|      |      |      | -9999|      |      |      |     0|      |      |     N|     0|      |      |     N|     0|      |      |     N| -9999|      |      |      | -9999|      |      |      | -9999|      |      |      |  -9999|       |       |       |  -9999|       |       |       |  -9999|       |       |       |  -9999|       |       |       |  -9999|       |       |       |  -9999|       |       |       |  -9999|       |       |       |  -9999|       |       |       |  -9999|       |       |       |  -9999|       |       |       |  -9999|       |       |       |  -9999|       |       |       |  -9999|       |       |       |  -9999|       |       |       |  -9999|       |       |       |  -9999|       |       |       |  -9999|       |       |       |  -9999|       |       |       |  -9999|       |       |       |  -9999|       |       |       |  -9999|       |       |       |  -9999|       |       |       |\n",
      "|CA1AB000001|2014|   08|   PRCP|     0|      |      |     N|     0|      |      |     N|     0|      |      |     N|     0|      |      |     N|     0|      |      |     N|     0|      |      |     N|    30|      |      |     N|     0|      |      |     N|    33|      |      |     N|      0|       |       |      N|      0|       |       |      N|      0|       |       |      N|      0|       |       |      N|      0|       |       |      N|      0|       |       |      N|      0|       |       |      N|     28|       |       |      N|      0|       |       |      N|     13|       |       |      N|     13|       |       |      N|  -9999|       |       |       |  -9999|       |       |       |  -9999|       |       |       |  -9999|       |       |       |  -9999|       |       |       |  -9999|       |       |       |      0|       |       |      N|     13|       |       |      N|      0|       |       |      N|     48|       |       |      N|      0|      T|       |      N|\n",
      "|CA1AB000001|2014|   08|   SNOW|     0|      |      |     N|     0|      |      |     N|     0|      |      |     N|     0|      |      |     N|     0|      |      |     N|     0|      |      |     N|     0|      |      |     N|     0|      |      |     N|     0|      |      |     N|      0|       |       |      N|      0|       |       |      N|      0|       |       |      N|      0|       |       |      N|      0|       |       |      N|      0|       |       |      N|      0|       |       |      N|      0|       |       |      N|      0|       |       |      N|      0|       |       |      N|      0|       |       |      N|  -9999|       |       |       |  -9999|       |       |       |  -9999|       |       |       |  -9999|       |       |       |  -9999|       |       |       |  -9999|       |       |       |      0|       |       |      N|      0|       |       |      N|      0|       |       |      N|      0|       |       |      N|      0|       |       |      N|\n",
      "|CA1AB000001|2014|   08|   SNWD| -9999|      |      |      | -9999|      |      |      | -9999|      |      |      | -9999|      |      |      | -9999|      |      |      | -9999|      |      |      | -9999|      |      |      | -9999|      |      |      | -9999|      |      |      |  -9999|       |       |       |  -9999|       |       |       |  -9999|       |       |       |  -9999|       |       |       |  -9999|       |       |       |  -9999|       |       |       |  -9999|       |       |       |  -9999|       |       |       |  -9999|       |       |       |  -9999|       |       |       |  -9999|       |       |       |  -9999|       |       |       |  -9999|       |       |       |  -9999|       |       |       |  -9999|       |       |       |  -9999|       |       |       |      0|       |       |      N|  -9999|       |       |       |  -9999|       |       |       |  -9999|       |       |       |  -9999|       |       |       |  -9999|       |       |       |\n",
      "|CA1AB000001|2014|   08|   DAPR| -9999|      |      |      | -9999|      |      |      | -9999|      |      |      | -9999|      |      |      | -9999|      |      |      | -9999|      |      |      | -9999|      |      |      | -9999|      |      |      | -9999|      |      |      |  -9999|       |       |       |  -9999|       |       |       |  -9999|       |       |       |  -9999|       |       |       |  -9999|       |       |       |  -9999|       |       |       |  -9999|       |       |       |  -9999|       |       |       |  -9999|       |       |       |  -9999|       |       |       |  -9999|       |       |       |  -9999|       |       |       |  -9999|       |       |       |  -9999|       |       |       |  -9999|       |       |       |  -9999|       |       |       |      6|       |       |      N|  -9999|       |       |       |  -9999|       |       |       |  -9999|       |       |       |  -9999|       |       |       |  -9999|       |       |       |\n",
      "|CA1AB000001|2014|   08|   MDPR| -9999|      |      |      | -9999|      |      |      | -9999|      |      |      | -9999|      |      |      | -9999|      |      |      | -9999|      |      |      | -9999|      |      |      | -9999|      |      |      | -9999|      |      |      |  -9999|       |       |       |  -9999|       |       |       |  -9999|       |       |       |  -9999|       |       |       |  -9999|       |       |       |  -9999|       |       |       |  -9999|       |       |       |  -9999|       |       |       |  -9999|       |       |       |  -9999|       |       |       |  -9999|       |       |       |  -9999|       |       |       |  -9999|       |       |       |  -9999|       |       |       |  -9999|       |       |       |  -9999|       |       |       |      0|       |       |      N|  -9999|       |       |       |  -9999|       |       |       |  -9999|       |       |       |  -9999|       |       |       |  -9999|       |       |       |\n",
      "|CA1AB000001|2014|   08|   WESD| -9999|      |      |      | -9999|      |      |      | -9999|      |      |      | -9999|      |      |      | -9999|      |      |      | -9999|      |      |      | -9999|      |      |      | -9999|      |      |      | -9999|      |      |      |  -9999|       |       |       |  -9999|       |       |       |  -9999|       |       |       |  -9999|       |       |       |  -9999|       |       |       |  -9999|       |       |       |  -9999|       |       |       |  -9999|       |       |       |  -9999|       |       |       |  -9999|       |       |       |  -9999|       |       |       |  -9999|       |       |       |  -9999|       |       |       |  -9999|       |       |       |  -9999|       |       |       |  -9999|       |       |       |      0|       |       |      N|  -9999|       |       |       |  -9999|       |       |       |  -9999|       |       |       |  -9999|       |       |       |  -9999|       |       |       |\n",
      "|CA1AB000001|2014|   09|   PRCP|     0|     T|      |     N|     5|      |      |     N|     0|     T|      |     N|    10|      |      |     N|     5|      |      |     N| -9999|      |      |      | -9999|      |      |      | -9999|      |      |      |    23|      |      |     N|     15|       |       |      N|      0|       |       |      N|      0|       |       |      N|      3|       |       |      N|      0|       |       |      N|      0|       |       |      N|      0|       |       |      N|      0|       |       |      N|      0|       |       |      N|      0|       |       |      N|      0|       |       |      N|      0|       |       |      N|      0|       |       |      N|      0|       |       |      N|      0|       |       |      N|      0|       |       |      N|     10|       |       |      N|     30|       |       |      N|      0|      T|       |      N|      0|      T|       |      N|      0|      T|       |      N|  -9999|       |       |       |\n",
      "|CA1AB000001|2014|   09|   SNOW|     0|      |      |     N|     0|      |      |     N|     0|      |      |     N|     0|      |      |     N|     0|      |      |     N| -9999|      |      |      | -9999|      |      |      | -9999|      |      |      |     0|     T|      |     N|      0|       |       |      N|      0|       |       |      N|      0|       |       |      N|      0|       |       |      N|      0|       |       |      N|      0|       |       |      N|      0|       |       |      N|      0|       |       |      N|      0|       |       |      N|      0|       |       |      N|      0|       |       |      N|      0|       |       |      N|      0|       |       |      N|      0|       |       |      N|      0|       |       |      N|      0|       |       |      N|      0|       |       |      N|      0|       |       |      N|      0|       |       |      N|      0|       |       |      N|      0|       |       |      N|  -9999|       |       |       |\n",
      "|CA1AB000001|2014|   09|   SNWD| -9999|      |      |      | -9999|      |      |      | -9999|      |      |      | -9999|      |      |      | -9999|      |      |      | -9999|      |      |      | -9999|      |      |      |     0|      |      |     N| -9999|      |      |      |  -9999|       |       |       |  -9999|       |       |       |  -9999|       |       |       |  -9999|       |       |       |  -9999|       |       |       |  -9999|       |       |       |  -9999|       |       |       |  -9999|       |       |       |  -9999|       |       |       |  -9999|       |       |       |  -9999|       |       |       |  -9999|       |       |       |  -9999|       |       |       |  -9999|       |       |       |  -9999|       |       |       |  -9999|       |       |       |  -9999|       |       |       |  -9999|       |       |       |  -9999|       |       |       |  -9999|       |       |       |  -9999|       |       |       |  -9999|       |       |       |\n",
      "|CA1AB000001|2014|   09|   DAPR| -9999|      |      |      | -9999|      |      |      | -9999|      |      |      | -9999|      |      |      | -9999|      |      |      | -9999|      |      |      | -9999|      |      |      |     3|      |      |     N| -9999|      |      |      |  -9999|       |       |       |  -9999|       |       |       |  -9999|       |       |       |  -9999|       |       |       |  -9999|       |       |       |  -9999|       |       |       |  -9999|       |       |       |  -9999|       |       |       |  -9999|       |       |       |  -9999|       |       |       |  -9999|       |       |       |  -9999|       |       |       |  -9999|       |       |       |  -9999|       |       |       |  -9999|       |       |       |  -9999|       |       |       |  -9999|       |       |       |  -9999|       |       |       |  -9999|       |       |       |  -9999|       |       |       |  -9999|       |       |       |  -9999|       |       |       |\n",
      "|CA1AB000001|2014|   09|   MDPR| -9999|      |      |      | -9999|      |      |      | -9999|      |      |      | -9999|      |      |      | -9999|      |      |      | -9999|      |      |      | -9999|      |      |      |    84|      |      |     N| -9999|      |      |      |  -9999|       |       |       |  -9999|       |       |       |  -9999|       |       |       |  -9999|       |       |       |  -9999|       |       |       |  -9999|       |       |       |  -9999|       |       |       |  -9999|       |       |       |  -9999|       |       |       |  -9999|       |       |       |  -9999|       |       |       |  -9999|       |       |       |  -9999|       |       |       |  -9999|       |       |       |  -9999|       |       |       |  -9999|       |       |       |  -9999|       |       |       |  -9999|       |       |       |  -9999|       |       |       |  -9999|       |       |       |  -9999|       |       |       |  -9999|       |       |       |\n",
      "|CA1AB000001|2014|   10|   PRCP|     0|      |      |     N|     8|      |      |     N|     0|      |      |     N|     3|      |      |     N|     0|      |      |     N|     3|      |      |     N|     0|      |      |     N|     5|      |      |     N|     0|      |      |     N|      0|       |       |      N|      0|       |       |      N|      0|       |       |      N|      0|       |       |      N|      0|       |       |      N|      0|       |       |      N|     20|       |       |      N|      0|      T|       |      N|      0|       |       |      N|      0|       |       |      N|      0|       |       |      N|      0|       |       |      N|      0|       |       |      N|      0|       |       |      N|      0|       |       |      N|      0|       |       |      N|      0|      T|       |      N|  -9999|       |       |       |  -9999|       |       |       |  -9999|       |       |       |  -9999|       |       |       |  -9999|       |       |       |\n",
      "|CA1AB000001|2014|   10|   SNOW|     0|      |      |     N|     0|      |      |     N|     0|      |      |     N|     0|      |      |     N|     0|      |      |     N|     0|      |      |     N|     0|      |      |     N|     0|      |      |     N|     0|      |      |     N|      0|       |       |      N|      0|       |       |      N|      0|       |       |      N|      0|       |       |      N|      0|       |       |      N|      0|       |       |      N|      0|       |       |      N|      0|       |       |      N|      0|       |       |      N|      0|       |       |      N|      0|       |       |      N|      0|       |       |      N|      0|       |       |      N|      0|       |       |      N|      0|       |       |      N|      0|       |       |      N|      0|       |       |      N|  -9999|       |       |       |  -9999|       |       |       |  -9999|       |       |       |  -9999|       |       |       |  -9999|       |       |       |\n",
      "|CA1AB000001|2014|   10|   SNWD|     0|      |      |     N|     0|      |      |     N|     0|      |      |     N|     0|      |      |     N|     0|      |      |     N|     0|      |      |     N|     0|      |      |     N|     0|      |      |     N|     0|      |      |     N|      0|       |       |      N|      0|       |       |      N|      0|       |       |      N|      0|       |       |      N|      0|       |       |      N|      0|       |       |      N|      0|       |       |      N|      0|       |       |      N|      0|       |       |      N|      0|       |       |      N|      0|       |       |      N|      0|       |       |      N|      0|       |       |      N|      0|       |       |      N|      0|       |       |      N|      0|       |       |      N|      0|       |       |      N|  -9999|       |       |       |  -9999|       |       |       |  -9999|       |       |       |  -9999|       |       |       |  -9999|       |       |       |\n",
      "|CA1AB000001|2016|   03|   PRCP| -9999|      |      |      | -9999|      |      |      | -9999|      |      |      | -9999|      |      |      | -9999|      |      |      | -9999|      |      |      | -9999|      |      |      | -9999|      |      |      | -9999|      |      |      |  -9999|       |       |       |      0|       |       |      N|      0|       |       |      N|     18|       |       |      N|      0|      T|       |      N|      0|       |       |      N|      0|       |       |      N|      0|      T|       |      N|      0|       |       |      N|      0|       |       |      N|      0|       |       |      N|      0|       |       |      N|     56|       |       |      N|      0|       |       |      N|      0|       |       |      N|      0|      T|       |      N|      8|       |       |      N|      0|       |       |      N|      0|       |       |      N|  -9999|       |       |       |  -9999|       |       |       |      3|       |       |      N|\n",
      "|CA1AB000001|2016|   03|   SNOW| -9999|      |      |      | -9999|      |      |      | -9999|      |      |      | -9999|      |      |      | -9999|      |      |      | -9999|      |      |      | -9999|      |      |      | -9999|      |      |      | -9999|      |      |      |  -9999|       |       |       |  -9999|       |       |       |  -9999|       |       |       |  -9999|       |       |       |  -9999|       |       |       |  -9999|       |       |       |  -9999|       |       |       |      0|      T|       |      N|  -9999|       |       |       |  -9999|       |       |       |      0|       |       |      N|      4|       |       |      N|     70|       |       |      N|  -9999|       |       |       |  -9999|       |       |       |  -9999|       |       |       |  -9999|       |       |       |  -9999|       |       |       |  -9999|       |       |       |  -9999|       |       |       |  -9999|       |       |       |  -9999|       |       |       |\n",
      "|CA1AB000001|2016|   03|   SNWD| -9999|      |      |      | -9999|      |      |      | -9999|      |      |      | -9999|      |      |      | -9999|      |      |      | -9999|      |      |      | -9999|      |      |      | -9999|      |      |      | -9999|      |      |      |  -9999|       |       |       |  -9999|       |       |       |  -9999|       |       |       |  -9999|       |       |       |  -9999|       |       |       |  -9999|       |       |       |  -9999|       |       |       |  -9999|       |       |       |  -9999|       |       |       |  -9999|       |       |       |  -9999|       |       |       |  -9999|       |       |       |     70|       |       |      N|  -9999|       |       |       |  -9999|       |       |       |  -9999|       |       |       |  -9999|       |       |       |  -9999|       |       |       |  -9999|       |       |       |  -9999|       |       |       |  -9999|       |       |       |  -9999|       |       |       |\n",
      "+-----------+----+-----+-------+------+------+------+------+------+------+------+------+------+------+------+------+------+------+------+------+------+------+------+------+------+------+------+------+------+------+------+------+------+------+------+------+------+------+------+------+-------+-------+-------+-------+-------+-------+-------+-------+-------+-------+-------+-------+-------+-------+-------+-------+-------+-------+-------+-------+-------+-------+-------+-------+-------+-------+-------+-------+-------+-------+-------+-------+-------+-------+-------+-------+-------+-------+-------+-------+-------+-------+-------+-------+-------+-------+-------+-------+-------+-------+-------+-------+-------+-------+-------+-------+-------+-------+-------+-------+-------+-------+-------+-------+-------+-------+-------+-------+-------+-------+-------+-------+-------+-------+-------+-------+-------+-------+-------+-------+-------+-------+-------+-------+-------+-------+-------+-------+\n",
      "only showing top 20 rows\n",
      "\n"
     ]
    }
   ],
   "source": [
    "station = \"CA1AB000001\"\n",
    "ghcnd_all_input = sc.textFile(data_path + \"/ghcnd-all-canada/\"+ station +\".dly\")\n",
    "formatted_lines = ghcnd_all_input.map(parse_line)\n",
    "cleaned_ghcnd_all = formatted_lines.toDF(ghcnd_all_columns())\n",
    "cleaned_ghcnd_all.show()"
   ],
   "metadata": {
    "collapsed": false,
    "pycharm": {
     "name": "#%%\n"
    }
   }
  },
  {
   "cell_type": "code",
   "execution_count": 25,
   "outputs": [],
   "source": [
    "cleaned_ghcnd_all.write.partitionBy(\"station\").parquet(data_path + \"/ghcnd-all-canada-cleaned\", mode=\"overwrite\")"
   ],
   "metadata": {
    "collapsed": false,
    "pycharm": {
     "name": "#%%\n"
    }
   }
  },
  {
   "cell_type": "markdown",
   "source": [
    "### Wind"
   ],
   "metadata": {
    "collapsed": false,
    "pycharm": {
     "name": "#%% md\n"
    }
   }
  },
  {
   "cell_type": "markdown",
   "source": [
    "Questions:\n",
    "- what is a multiday? - lasting for more than one day: HOW LONG\n",
    "-\n",
    "-"
   ],
   "metadata": {
    "collapsed": false,
    "pycharm": {
     "name": "#%% md\n"
    }
   }
  },
  {
   "cell_type": "code",
   "execution_count": 27,
   "outputs": [],
   "source": [
    "# wind speed in tenth of meters per second\n",
    "wind_day_average_speed = \"AWND\"\n",
    "wind_day_max_1min_speed = \"WSF1\"\n",
    "wind_day_max_2min_speed = \"WSF2\"\n",
    "wind_day_max_5min_speed = \"WSF5\"\n",
    "wind_day_max_instantaneous_speed = \"WSFI\"\n",
    "wind_day_peak_speed = \"WSFG\"\n",
    "wind_speed = [wind_day_average_speed, wind_day_max_1min_speed, wind_day_max_2min_speed, wind_day_max_5min_speed, wind_day_max_instantaneous_speed, wind_day_peak_speed]\n",
    "\n",
    "# wind movement in km/h\n",
    "wind_time_max_movement = \"FMTM\"\n",
    "wind_multiday_movement = \"MDWM\"\n",
    "wind_multiday_movement_number_of_days = \"DAWM\"\n",
    "wind_day_movement = \"WDMV\"\n",
    "wind_movement = [wind_time_max_movement, wind_multiday_movement, wind_multiday_movement_number_of_days, wind_day_movement]\n",
    "\n",
    "# wind directions in degree\n",
    "wind_day_average_direction = \"AWDR\"\n",
    "wind_day_max_1min_direction = \"WDF1\"\n",
    "wind_day_max_2min_direction = \"WDF2\"\n",
    "wind_day_max_5min_direction = \"WDF5\"\n",
    "wind_day_peak_direction = \"WDFG\"\n",
    "wind_day_max_instantaneous_direction = \"WDFI\"\n",
    "wind_direction = [wind_day_average_direction, wind_day_max_1min_direction, wind_day_max_2min_direction, wind_day_max_5min_direction, wind_day_peak_direction, wind_day_max_instantaneous_direction]\n",
    "\n",
    "# temperature in tenths of degrees C\n",
    "temperature_day_min = \"TMIN\"\n",
    "temperature_multiday_min = \"MDTN\"\n",
    "temperature_multiday_min_number_of_days = \"DATN\"\n",
    "temperature_day_max = \"TMAX\"\n",
    "temperature_multiday_max = \"MDTX\"\n",
    "temperature_multiday_max_number_of_days = \"DATX\"\n",
    "temperature = [temperature_day_min, temperature_multiday_min, temperature_multiday_min_number_of_days, temperature_day_max, temperature_multiday_max, temperature_multiday_max_number_of_days]"
   ],
   "metadata": {
    "collapsed": false,
    "pycharm": {
     "name": "#%%\n"
    }
   }
  },
  {
   "cell_type": "code",
   "execution_count": 39,
   "outputs": [
    {
     "name": "stdout",
     "output_type": "stream",
     "text": [
      "+-------+-----+\n",
      "|element|count|\n",
      "+-------+-----+\n",
      "|   WESD|    1|\n",
      "|   MDPR|   41|\n",
      "|   DAPR|   41|\n",
      "|   SNOW|   80|\n",
      "|   SNWD|   16|\n",
      "|   PRCP|   80|\n",
      "+-------+-----+\n",
      "\n"
     ]
    }
   ],
   "source": [
    "parquet_data = spark.read.parquet(data_path + \"/ghcnd-all-canada-cleaned/station=\" + station)\n",
    "parquet_data.groupby(parquet_data[\"element\"]).count().show()"
   ],
   "metadata": {
    "collapsed": false,
    "pycharm": {
     "name": "#%%\n"
    }
   }
  },
  {
   "cell_type": "markdown",
   "source": [
    "### Temperature"
   ],
   "metadata": {
    "collapsed": false,
    "pycharm": {
     "name": "#%% md\n"
    }
   }
  },
  {
   "cell_type": "code",
   "execution_count": 26,
   "outputs": [],
   "source": [],
   "metadata": {
    "collapsed": false,
    "pycharm": {
     "name": "#%%\n"
    }
   }
  },
  {
   "cell_type": "markdown",
   "source": [
    "### Weather"
   ],
   "metadata": {
    "collapsed": false,
    "pycharm": {
     "name": "#%% md\n"
    }
   }
  },
  {
   "cell_type": "code",
   "execution_count": 26,
   "outputs": [],
   "source": [],
   "metadata": {
    "collapsed": false,
    "pycharm": {
     "name": "#%%\n"
    }
   }
  },
  {
   "cell_type": "markdown",
   "source": [
    "# Part 2: Clean up the data\n",
    "## CSV to Parquet"
   ],
   "metadata": {
    "collapsed": false,
    "pycharm": {
     "name": "#%% md\n"
    }
   }
  },
  {
   "cell_type": "code",
   "execution_count": 26,
   "outputs": [],
   "source": [],
   "metadata": {
    "collapsed": false,
    "pycharm": {
     "name": "#%%\n"
    }
   }
  }
 ],
 "metadata": {
  "kernelspec": {
   "display_name": "Python 3",
   "language": "python",
   "name": "python3"
  },
  "language_info": {
   "codemirror_mode": {
    "name": "ipython",
    "version": 2
   },
   "file_extension": ".py",
   "mimetype": "text/x-python",
   "name": "python",
   "nbconvert_exporter": "python",
   "pygments_lexer": "ipython2",
   "version": "2.7.6"
  }
 },
 "nbformat": 4,
 "nbformat_minor": 0
}